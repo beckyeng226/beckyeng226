{
  "cells": [
    {
      "cell_type": "markdown",
      "metadata": {
        "id": "view-in-github",
        "colab_type": "text"
      },
      "source": [
        "<a href=\"https://colab.research.google.com/github/beckyeng226/beckyeng226/blob/main/Capstone_Project_Live_Birth_Data_Working_File_2_1_23.ipynb\" target=\"_parent\"><img src=\"https://colab.research.google.com/assets/colab-badge.svg\" alt=\"Open In Colab\"/></a>"
      ]
    },
    {
      "cell_type": "code",
      "execution_count": 1,
      "id": "e440de4f",
      "metadata": {
        "id": "e440de4f"
      },
      "outputs": [],
      "source": [
        "#import standard libraries\n",
        "\n",
        "import numpy as np\n",
        "import pandas as pd\n",
        "\n",
        "import matplotlib.pyplot as plt\n",
        "import matplotlib as mpl\n",
        "from matplotlib import cm\n",
        "\n",
        "from sklearn.impute import KNNImputer\n",
        "from sklearn.preprocessing import OneHotEncoder\n",
        "from sklearn.ensemble import RandomForestClassifier\n",
        "from sklearn.multioutput import MultiOutputClassifier\n",
        "from sklearn.ensemble import RandomForestRegressor\n",
        "from sklearn.multioutput import MultiOutputRegressor\n",
        "from sklearn.model_selection import GridSearchCV\n",
        "from sklearn.inspection import permutation_importance\n",
        "from sklearn.metrics import accuracy_score, precision_score, recall_score, f1_score\n",
        "from sklearn.metrics import mean_squared_error\n",
        "\n",
        "%matplotlib inline\n",
        "mpl.rc('axes', labelsize=14)\n",
        "mpl.rc('xtick', labelsize=12)\n",
        "mpl.rc('ytick', labelsize=12)"
      ]
    },
    {
      "cell_type": "code",
      "execution_count": null,
      "id": "3d039c46",
      "metadata": {
        "scrolled": true,
        "id": "3d039c46"
      },
      "outputs": [],
      "source": [
        "#import data\n",
        "\n",
        "colspecs = [(74, 76), (104, 106), (114, 115), (118, 119), (119, 120), (123, 124), (146, 148), (150, 152), (159, 160), \n",
        "            (162, 163), (237, 239), (250, 251), (402, 403), (407, 408), (498, 500), (502, 503), (503, 507), (568, 569)]\n",
        "colnames = ['MAGER', 'MRACE31', 'MHISP_R', 'MAR_P', 'DMAR', 'MEDUC', 'FAGECOMB', 'FRACE31', 'FHISP_R', 'FEDUC', 'PREVIS', \n",
        "           'WIC', 'ME_TRIAL', 'DMETH_REC', 'OEGEST_COMB', 'OEGEST_R3', 'DBWT', 'BFED']\n",
        "\n",
        "data = pd.read_fwf('Nat2021US.txt', colspecs=colspecs, names=colnames)\n",
        "data.head()"
      ]
    },
    {
      "cell_type": "markdown",
      "id": "4688cbfa",
      "metadata": {
        "id": "4688cbfa"
      },
      "source": [
        "## Descriptive and Exploratory Analyses"
      ]
    },
    {
      "cell_type": "code",
      "execution_count": null,
      "id": "d693bb15",
      "metadata": {
        "id": "d693bb15"
      },
      "outputs": [],
      "source": [
        "data.info()"
      ]
    },
    {
      "cell_type": "code",
      "execution_count": null,
      "id": "cecd2f2e",
      "metadata": {
        "id": "cecd2f2e"
      },
      "outputs": [],
      "source": [
        "data.describe()"
      ]
    },
    {
      "cell_type": "code",
      "execution_count": null,
      "id": "847cda1b",
      "metadata": {
        "id": "847cda1b"
      },
      "outputs": [],
      "source": [
        "data.corr()"
      ]
    },
    {
      "cell_type": "code",
      "execution_count": null,
      "id": "10b12291",
      "metadata": {
        "id": "10b12291"
      },
      "outputs": [],
      "source": [
        "data.isna().sum()"
      ]
    },
    {
      "cell_type": "code",
      "execution_count": null,
      "id": "fa32df0e",
      "metadata": {
        "id": "fa32df0e"
      },
      "outputs": [],
      "source": [
        "### marital status of mother: 1=married, 2=unmarried\n",
        "data['DMAR'].value_counts()"
      ]
    },
    {
      "cell_type": "code",
      "execution_count": null,
      "id": "e56a3ab5",
      "metadata": {
        "id": "e56a3ab5"
      },
      "outputs": [],
      "source": [
        "### percentage marital status of mother: 1=married, 2=unmarried\n",
        "data['DMAR'].value_counts(normalize=True)"
      ]
    },
    {
      "cell_type": "code",
      "execution_count": null,
      "id": "cf57db5d",
      "metadata": {
        "id": "cf57db5d"
      },
      "outputs": [],
      "source": [
        "### paternity acknowledged: Y, N, U=Unknown, X=Not applicable (because reported married, paternity assumed)\n",
        "data['MAR_P'].value_counts()"
      ]
    },
    {
      "cell_type": "markdown",
      "id": "7b540ac6",
      "metadata": {
        "id": "7b540ac6"
      },
      "source": [
        "### Maternal Demographic Characteristics"
      ]
    },
    {
      "cell_type": "code",
      "execution_count": null,
      "id": "400f8220",
      "metadata": {
        "id": "400f8220"
      },
      "outputs": [],
      "source": [
        "### mother education level\n",
        "data['MEDUC'] = data.MEDUC.replace([9], [np.nan])\n",
        "data['MEDUC'].value_counts(normalize=True)"
      ]
    },
    {
      "cell_type": "code",
      "execution_count": null,
      "id": "66b1b692",
      "metadata": {
        "id": "66b1b692"
      },
      "outputs": [],
      "source": [
        "plt.hist(data.MEDUC.loc[data.MEDUC != 99], bins=8)"
      ]
    },
    {
      "cell_type": "code",
      "execution_count": null,
      "id": "db41811a",
      "metadata": {
        "id": "db41811a"
      },
      "outputs": [],
      "source": [
        "### mother age\n",
        "data['MAGER'].value_counts()"
      ]
    },
    {
      "cell_type": "code",
      "execution_count": null,
      "id": "3fd83d41",
      "metadata": {
        "id": "3fd83d41"
      },
      "outputs": [],
      "source": [
        "data['MAGER'].loc[data['MAGER'] != 99].mean()"
      ]
    },
    {
      "cell_type": "code",
      "execution_count": null,
      "id": "10bab74a",
      "metadata": {
        "id": "10bab74a"
      },
      "outputs": [],
      "source": [
        "plt.hist(data.MAGER, bins=10)"
      ]
    },
    {
      "cell_type": "code",
      "execution_count": null,
      "id": "ccec1215",
      "metadata": {
        "id": "ccec1215"
      },
      "outputs": [],
      "source": [
        "plt.boxplot(data.MAGER)"
      ]
    },
    {
      "cell_type": "code",
      "execution_count": null,
      "id": "ecc6cb39",
      "metadata": {
        "id": "ecc6cb39"
      },
      "outputs": [],
      "source": [
        "### mother race\n",
        "data['MRACE31'].value_counts(normalize=True)"
      ]
    },
    {
      "cell_type": "code",
      "execution_count": null,
      "id": "afdbcf54",
      "metadata": {
        "id": "afdbcf54"
      },
      "outputs": [],
      "source": [
        "### mother Hispanic origin\n",
        "data['MHISP_R'] = data.MHISP_R.replace([9], [np.nan])\n",
        "data['MHISP_R'].value_counts(normalize=True)"
      ]
    },
    {
      "cell_type": "markdown",
      "id": "0d095484",
      "metadata": {
        "id": "0d095484"
      },
      "source": [
        "\n",
        "### Paternal Demographic Characteristics"
      ]
    },
    {
      "cell_type": "code",
      "execution_count": null,
      "id": "eb393a65",
      "metadata": {
        "id": "eb393a65"
      },
      "outputs": [],
      "source": [
        "### father age\n",
        "data['FAGECOMB'] = data.FAGECOMB.replace([99], [np.nan])\n",
        "data['FAGECOMB'].value_counts(normalize=True)"
      ]
    },
    {
      "cell_type": "code",
      "execution_count": null,
      "id": "4d08134b",
      "metadata": {
        "id": "4d08134b"
      },
      "outputs": [],
      "source": [
        "data['FAGECOMB'].loc[data['FAGECOMB'] != 99].mean()"
      ]
    },
    {
      "cell_type": "code",
      "execution_count": null,
      "id": "53fb2d97",
      "metadata": {
        "id": "53fb2d97"
      },
      "outputs": [],
      "source": [
        "plt.boxplot(data.FAGECOMB)"
      ]
    },
    {
      "cell_type": "code",
      "execution_count": null,
      "id": "cd930c70",
      "metadata": {
        "id": "cd930c70"
      },
      "outputs": [],
      "source": [
        "plt.hist(data.FAGECOMB, bins=9)"
      ]
    },
    {
      "cell_type": "code",
      "execution_count": null,
      "id": "cb733dd1",
      "metadata": {
        "id": "cb733dd1"
      },
      "outputs": [],
      "source": [
        "### father race\n",
        "data['FRACE31'] = data.FRACE31.replace([99], [np.nan])\n",
        "data['FRACE31'].value_counts(normalize=True)"
      ]
    },
    {
      "cell_type": "code",
      "execution_count": null,
      "id": "b50ad237",
      "metadata": {
        "id": "b50ad237"
      },
      "outputs": [],
      "source": [
        "### father Hispanic origin\n",
        "data['FHISP_R'] = data.FHISP_R.replace([9], [np.nan])\n",
        "data['FHISP_R'].value_counts()"
      ]
    },
    {
      "cell_type": "code",
      "execution_count": null,
      "id": "c577fb4e",
      "metadata": {
        "id": "c577fb4e"
      },
      "outputs": [],
      "source": [
        "### father education level\n",
        "data['FEDUC'] = data.FEDUC.replace([9], [np.nan])\n",
        "data['FEDUC'].value_counts(normalize=True)"
      ]
    },
    {
      "cell_type": "code",
      "execution_count": null,
      "id": "61623389",
      "metadata": {
        "id": "61623389"
      },
      "outputs": [],
      "source": [
        "plt.hist(data.FEDUC.loc[data.FEDUC != 99], bins=8)"
      ]
    },
    {
      "cell_type": "markdown",
      "id": "16ecc5c3",
      "metadata": {
        "id": "16ecc5c3"
      },
      "source": [
        "### Pregnancy and Infant Outcomes"
      ]
    },
    {
      "cell_type": "code",
      "execution_count": null,
      "id": "c4ce1609",
      "metadata": {
        "id": "c4ce1609"
      },
      "outputs": [],
      "source": [
        "### number of prenatal visits\n",
        "data['PREVIS'] = data.PREVIS.replace([99], [np.nan])\n",
        "data['PREVIS'].value_counts()"
      ]
    },
    {
      "cell_type": "code",
      "execution_count": null,
      "id": "8e13155e",
      "metadata": {
        "id": "8e13155e"
      },
      "outputs": [],
      "source": [
        "#number of observations with 0 prenatal visits\n",
        "data['PREVIS'].loc[data['PREVIS'] == 0].count()"
      ]
    },
    {
      "cell_type": "code",
      "execution_count": null,
      "id": "f80836ed",
      "metadata": {
        "id": "f80836ed"
      },
      "outputs": [],
      "source": [
        "# number of observations where number of prenatal visits is unknown\n",
        "data['PREVIS'].loc[data['PREVIS'] == 99].count()"
      ]
    },
    {
      "cell_type": "code",
      "execution_count": null,
      "id": "ac08fce9",
      "metadata": {
        "id": "ac08fce9"
      },
      "outputs": [],
      "source": [
        "data['PREVIS'].loc[(data['PREVIS'] != 0) & (data['PREVIS'] != 99)].count()"
      ]
    },
    {
      "cell_type": "code",
      "execution_count": null,
      "id": "3f828b41",
      "metadata": {
        "id": "3f828b41"
      },
      "outputs": [],
      "source": [
        "#mean number of visits among those who had at least 1 prenatal visit\n",
        "data['PREVIS'].loc[(data['PREVIS'] != 0) & (data['PREVIS'] != 99)].mean()"
      ]
    },
    {
      "cell_type": "code",
      "execution_count": null,
      "id": "f578a351",
      "metadata": {
        "id": "f578a351"
      },
      "outputs": [],
      "source": [
        "#mean number of visits including those who had 0 prenatal visits\n",
        "data['PREVIS'].loc[data['PREVIS'] != 99].mean()"
      ]
    },
    {
      "cell_type": "code",
      "execution_count": null,
      "id": "1d7f3544",
      "metadata": {
        "id": "1d7f3544"
      },
      "outputs": [],
      "source": [
        "plt.boxplot(data.PREVIS)"
      ]
    },
    {
      "cell_type": "code",
      "execution_count": null,
      "id": "e54d9e84",
      "metadata": {
        "id": "e54d9e84"
      },
      "outputs": [],
      "source": [
        "# received WIC during pregnancy\n",
        "data['WIC'].value_counts(normalize=True)"
      ]
    },
    {
      "cell_type": "code",
      "execution_count": null,
      "id": "defb822a",
      "metadata": {
        "id": "defb822a"
      },
      "outputs": [],
      "source": [
        "# attempted a trial of labor prior to cesarean Y=yes, N=no, U=unknown, X=not applicable (delivered vaginally)\n",
        "data['ME_TRIAL'].value_counts(normalize=True)"
      ]
    },
    {
      "cell_type": "code",
      "execution_count": null,
      "id": "5bf93e0c",
      "metadata": {
        "id": "5bf93e0c"
      },
      "outputs": [],
      "source": [
        "# method of delivery 1=vaginal, 2=cesarean, 99=missing\n",
        "data['DMETH_REC'] = data.DMETH_REC.replace([9], [np.nan])\n",
        "data['DMETH_REC'].value_counts(normalize=True)"
      ]
    },
    {
      "cell_type": "code",
      "execution_count": null,
      "id": "3d2a1f8f",
      "metadata": {
        "id": "3d2a1f8f"
      },
      "outputs": [],
      "source": [
        "# weeks of gestation, range= 17-47, 99=missing\n",
        "data['OEGEST_COMB'] = data.OEGEST_COMB.replace([99], [np.nan])\n",
        "data['OEGEST_COMB'].value_counts()"
      ]
    },
    {
      "cell_type": "code",
      "execution_count": null,
      "id": "c7b25a33",
      "metadata": {
        "id": "c7b25a33"
      },
      "outputs": [],
      "source": [
        "plt.hist(data.OEGEST_COMB.loc[data.OEGEST_COMB != 99], bins=5)"
      ]
    },
    {
      "cell_type": "code",
      "execution_count": null,
      "id": "64ebb1aa",
      "metadata": {
        "id": "64ebb1aa"
      },
      "outputs": [],
      "source": [
        "plt.boxplot(data.OEGEST_COMB)"
      ]
    },
    {
      "cell_type": "code",
      "execution_count": null,
      "id": "25636880",
      "metadata": {
        "id": "25636880"
      },
      "outputs": [],
      "source": [
        "# infant weight in grams at birth, 99=missing\n",
        "data['DBWT'] = data.DBWT.replace([9999], [np.nan])\n",
        "data['DBWT'].value_counts(normalize=True)"
      ]
    },
    {
      "cell_type": "code",
      "execution_count": null,
      "id": "f3f440e6",
      "metadata": {
        "id": "f3f440e6"
      },
      "outputs": [],
      "source": [
        "plt.boxplot(data.DBWT)"
      ]
    },
    {
      "cell_type": "code",
      "execution_count": null,
      "id": "c619fadf",
      "metadata": {
        "id": "c619fadf"
      },
      "outputs": [],
      "source": [
        "# infant being breastfed at discharge Y=yes, N=no, U=unknown\n",
        "data['BFED'].value_counts(normalize=True)"
      ]
    },
    {
      "cell_type": "markdown",
      "id": "b620eed5",
      "metadata": {
        "id": "b620eed5"
      },
      "source": [
        "## Recoding of Data to Numeric"
      ]
    },
    {
      "cell_type": "code",
      "execution_count": null,
      "id": "2f6b96a1",
      "metadata": {
        "id": "2f6b96a1"
      },
      "outputs": [],
      "source": [
        "#change letters to numbers for WIC data\n",
        "data['WIC_R'] = data.WIC.replace(['Y', 'N', 'U'], [1, 0, np.nan])"
      ]
    },
    {
      "cell_type": "code",
      "execution_count": null,
      "id": "6c167f9e",
      "metadata": {
        "id": "6c167f9e"
      },
      "outputs": [],
      "source": [
        "#change letters to numbers for labor trial data \n",
        "data['TRIAL_R'] = data.ME_TRIAL.replace(['Y', 'N', 'U', 'X'], [1, 0, np.nan, 1])\n",
        "data['TRIAL_R'].value_counts(normalize=True)"
      ]
    },
    {
      "cell_type": "code",
      "execution_count": null,
      "id": "8b2cd29f",
      "metadata": {
        "id": "8b2cd29f"
      },
      "outputs": [],
      "source": [
        "#change letters to numbers for breastfeeding data\n",
        "data['BFED_R'] = data.BFED.replace(['Y', 'N', 'U'], [1, 0, np.nan])\n",
        "data['BFED_R'].value_counts(normalize=True)"
      ]
    },
    {
      "cell_type": "code",
      "execution_count": null,
      "id": "56a634fd",
      "metadata": {
        "id": "56a634fd"
      },
      "outputs": [],
      "source": [
        "# recode paternity acknowledged to numeric\n",
        "data['PATERNITY_R'] = data.MAR_P.replace(['Y', 'N', 'U', 'X'], [1, 0, np.nan, 1])\n",
        "data.head()"
      ]
    },
    {
      "cell_type": "code",
      "execution_count": null,
      "id": "1a2c13a2",
      "metadata": {
        "id": "1a2c13a2"
      },
      "outputs": [],
      "source": [
        "data.PATERNITY_R.value_counts()"
      ]
    },
    {
      "cell_type": "code",
      "execution_count": null,
      "id": "77dec774",
      "metadata": {
        "id": "77dec774"
      },
      "outputs": [],
      "source": [
        "data.isnull().sum()"
      ]
    },
    {
      "cell_type": "code",
      "execution_count": null,
      "id": "99c1ad84",
      "metadata": {
        "id": "99c1ad84"
      },
      "outputs": [],
      "source": [
        "data.info()"
      ]
    },
    {
      "cell_type": "markdown",
      "id": "0d447675",
      "metadata": {
        "id": "0d447675"
      },
      "source": [
        "## Taking a Stratified Random Sample for Analyses"
      ]
    },
    {
      "cell_type": "code",
      "execution_count": null,
      "id": "09d034b6",
      "metadata": {
        "id": "09d034b6"
      },
      "outputs": [],
      "source": [
        "sample_data = data.sample(n=1000000)\n",
        "sample_data.info()"
      ]
    },
    {
      "cell_type": "code",
      "execution_count": null,
      "id": "1932c9e5",
      "metadata": {
        "id": "1932c9e5"
      },
      "outputs": [],
      "source": [
        "sample_data['WIC'].value_counts(normalize=True)"
      ]
    },
    {
      "cell_type": "code",
      "execution_count": null,
      "id": "2b539056",
      "metadata": {
        "id": "2b539056"
      },
      "outputs": [],
      "source": [
        "sample_data['ME_TRIAL'].value_counts(normalize=True)"
      ]
    },
    {
      "cell_type": "code",
      "execution_count": null,
      "id": "3d5e09a8",
      "metadata": {
        "id": "3d5e09a8"
      },
      "outputs": [],
      "source": [
        "sample_data['DMETH_REC'].value_counts(normalize=True)"
      ]
    },
    {
      "cell_type": "code",
      "execution_count": null,
      "id": "933273bd",
      "metadata": {
        "id": "933273bd"
      },
      "outputs": [],
      "source": [
        "sample_data['BFED'].value_counts(normalize=True)"
      ]
    },
    {
      "cell_type": "code",
      "execution_count": null,
      "id": "93b39dd8",
      "metadata": {
        "id": "93b39dd8"
      },
      "outputs": [],
      "source": [
        "### mother education level\n",
        "sample_data['MEDUC'] = sample_data.MEDUC.replace([9], [np.nan])\n",
        "sample_data['MEDUC'].value_counts(normalize=True)"
      ]
    },
    {
      "cell_type": "code",
      "execution_count": null,
      "id": "b395b0b0",
      "metadata": {
        "id": "b395b0b0"
      },
      "outputs": [],
      "source": [
        "### mother Hispanic origin\n",
        "sample_data['MHISP_R'] = sample_data.MHISP_R.replace([9], [np.nan])\n",
        "sample_data['MHISP_R'].value_counts(normalize=True)"
      ]
    },
    {
      "cell_type": "code",
      "execution_count": null,
      "id": "ff4c022d",
      "metadata": {
        "id": "ff4c022d"
      },
      "outputs": [],
      "source": [
        "### father age\n",
        "sample_data['FAGECOMB'] = sample_data.FAGECOMB.replace([99], [np.nan])\n",
        "sample_data['FAGECOMB'].value_counts(normalize=True)"
      ]
    },
    {
      "cell_type": "code",
      "execution_count": null,
      "id": "df61cd1a",
      "metadata": {
        "id": "df61cd1a"
      },
      "outputs": [],
      "source": [
        "### father race\n",
        "sample_data['FRACE31'] = sample_data.FRACE31.replace([99], [np.nan])\n",
        "sample_data['FRACE31'].value_counts(normalize=True)"
      ]
    },
    {
      "cell_type": "code",
      "execution_count": null,
      "id": "1ef6a7cd",
      "metadata": {
        "id": "1ef6a7cd"
      },
      "outputs": [],
      "source": [
        "### father Hispanic origin\n",
        "sample_data['FHISP_R'] = sample_data.FHISP_R.replace([9], [np.nan])\n",
        "sample_data['FHISP_R'].value_counts()"
      ]
    },
    {
      "cell_type": "code",
      "execution_count": null,
      "id": "f1c6decf",
      "metadata": {
        "id": "f1c6decf"
      },
      "outputs": [],
      "source": [
        "### father education level\n",
        "sample_data['FEDUC'] = sample_data.FEDUC.replace([9], [np.nan])\n",
        "sample_data['FEDUC'].value_counts(normalize=True)"
      ]
    },
    {
      "cell_type": "code",
      "execution_count": null,
      "id": "d1e0f21b",
      "metadata": {
        "id": "d1e0f21b"
      },
      "outputs": [],
      "source": [
        "### number of prenatal visits\n",
        "sample_data['PREVIS'] = sample_data.PREVIS.replace([99], [np.nan])\n",
        "sample_data['PREVIS'].value_counts()"
      ]
    },
    {
      "cell_type": "code",
      "execution_count": null,
      "id": "14f0fa37",
      "metadata": {
        "id": "14f0fa37"
      },
      "outputs": [],
      "source": [
        "# method of delivery 1=vaginal, 2=cesarean, 99=missing\n",
        "sample_data['DMETH_REC'] = sample_data.DMETH_REC.replace([9], [np.nan])\n",
        "sample_data['DMETH_REC'].value_counts(normalize=True)"
      ]
    },
    {
      "cell_type": "code",
      "execution_count": null,
      "id": "74734436",
      "metadata": {
        "id": "74734436"
      },
      "outputs": [],
      "source": [
        "# weeks of gestation, range= 17-47, 99=missing\n",
        "sample_data['OEGEST_COMB'] = sample_data.OEGEST_COMB.replace([99], [np.nan])\n",
        "sample_data['OEGEST_COMB'].value_counts()"
      ]
    },
    {
      "cell_type": "code",
      "execution_count": null,
      "id": "a21871ab",
      "metadata": {
        "id": "a21871ab"
      },
      "outputs": [],
      "source": [
        "# infant weight in grams at birth, 99=missing\n",
        "sample_data['DBWT'] = sample_data.DBWT.replace([9999], [np.nan])\n",
        "sample_data['DBWT'].value_counts(normalize=True)"
      ]
    },
    {
      "cell_type": "code",
      "execution_count": null,
      "id": "f2bb8420",
      "metadata": {
        "id": "f2bb8420"
      },
      "outputs": [],
      "source": [
        "# infant being breastfed at discharge Y=yes, N=no, U=unknown\n",
        "sample_data['BFED'].value_counts(normalize=True)"
      ]
    },
    {
      "cell_type": "code",
      "execution_count": null,
      "id": "9e773624",
      "metadata": {
        "id": "9e773624"
      },
      "outputs": [],
      "source": [
        "#change letters to numbers for WIC data\n",
        "sample_data['WIC_R'] = sample_data.WIC.replace(['Y', 'N', 'U'], [1, 0, np.nan])"
      ]
    },
    {
      "cell_type": "code",
      "execution_count": null,
      "id": "575a67ce",
      "metadata": {
        "id": "575a67ce"
      },
      "outputs": [],
      "source": [
        "#change letters to numbers for labor trial data \n",
        "sample_data['TRIAL_R'] = sample_data.ME_TRIAL.replace(['Y', 'N', 'U', 'X'], [1, 0, np.nan, 1])"
      ]
    },
    {
      "cell_type": "code",
      "execution_count": null,
      "id": "c8a15ece",
      "metadata": {
        "id": "c8a15ece"
      },
      "outputs": [],
      "source": [
        "#change letters to numbers for breastfeeding data\n",
        "sample_data['BFED_R'] = sample_data.BFED.replace(['Y', 'N', 'U'], [1, 0, np.nan])"
      ]
    },
    {
      "cell_type": "code",
      "execution_count": null,
      "id": "07b70768",
      "metadata": {
        "id": "07b70768"
      },
      "outputs": [],
      "source": [
        "# recode paternity acknowledged to numeric\n",
        "sample_data['PATERNITY_R'] = sample_data.MAR_P.replace(['Y', 'N', 'U', 'X'], [1, 0, np.nan, 1])"
      ]
    },
    {
      "cell_type": "markdown",
      "id": "8be6c862",
      "metadata": {
        "id": "8be6c862"
      },
      "source": [
        "## Imputing Missing Values using KNNImputer()"
      ]
    },
    {
      "cell_type": "code",
      "execution_count": null,
      "id": "660e4a51",
      "metadata": {
        "id": "660e4a51"
      },
      "outputs": [],
      "source": [
        "impute_data=sample_data[['DMAR', 'PATERNITY_R', 'MEDUC', 'MAGER', 'MRACE31', 'MHISP_R', 'FAGECOMB', 'FRACE31', 'FHISP_R', \n",
        "                         'FEDUC', 'PREVIS', 'WIC_R', 'TRIAL_R', 'BFED_R', 'DMETH_REC', 'DBWT', 'OEGEST_COMB']]"
      ]
    },
    {
      "cell_type": "code",
      "execution_count": null,
      "id": "39983000",
      "metadata": {
        "id": "39983000"
      },
      "outputs": [],
      "source": [
        "impute_data.info()"
      ]
    },
    {
      "cell_type": "code",
      "execution_count": null,
      "id": "e51c2221",
      "metadata": {
        "id": "e51c2221"
      },
      "outputs": [],
      "source": [
        "from sklearn.impute import KNNImputer\n",
        "\n",
        "imputer = KNNImputer(n_neighbors=1)\n",
        "imputed_data = imputer.fit_transform(impute_data)"
      ]
    },
    {
      "cell_type": "code",
      "execution_count": null,
      "id": "cd55af0d",
      "metadata": {
        "id": "cd55af0d"
      },
      "outputs": [],
      "source": [
        "# Make df of imputed data\n",
        "column_values = ['DMAR', 'PATERNITY_R', 'MEDUC', 'MAGER', 'MRACE31', 'MHISP_R', 'FAGECOMB', 'FRACE31', 'FHISP_R', 'FEDUC',\n",
        "       'PREVIS', 'DMETH_REC', 'DBWT', 'OEGEST_COMB']\n",
        "imputed_data = pd.DataFrame(data=imputed_data, columns=column_values)\n",
        "imputed_data.head()"
      ]
    },
    {
      "cell_type": "markdown",
      "id": "7470922c",
      "metadata": {
        "id": "7470922c"
      },
      "source": [
        "## Export of Imputed Data \n",
        "### Once all data is imputed, will use this data file so do not have to re-run KNNImputer because it is so time-intensive."
      ]
    },
    {
      "cell_type": "code",
      "execution_count": null,
      "id": "4d92349b",
      "metadata": {
        "id": "4d92349b"
      },
      "outputs": [],
      "source": [
        "imputed_data.to_csv('imputed_data.csv')"
      ]
    },
    {
      "cell_type": "markdown",
      "id": "c3002daa",
      "metadata": {
        "id": "c3002daa"
      },
      "source": [
        "## Import Imputed Data"
      ]
    },
    {
      "cell_type": "code",
      "execution_count": null,
      "id": "50903736",
      "metadata": {
        "id": "50903736"
      },
      "outputs": [],
      "source": [
        "# Because running the imputer takes multiple hours, the dataset was exported so can be used without having to run imputer\n",
        "imputed_data = pd.read_csv('full_sample.csv')"
      ]
    },
    {
      "cell_type": "code",
      "execution_count": null,
      "id": "09317b73",
      "metadata": {
        "id": "09317b73"
      },
      "outputs": [],
      "source": [
        "imputed_data.head()"
      ]
    },
    {
      "cell_type": "code",
      "execution_count": null,
      "id": "82e29272",
      "metadata": {
        "id": "82e29272"
      },
      "outputs": [],
      "source": [
        "imputed_data = imputed_data.drop(labels='Unnamed: 0', axis=1)"
      ]
    },
    {
      "cell_type": "code",
      "execution_count": null,
      "id": "8bf8595a",
      "metadata": {
        "id": "8bf8595a"
      },
      "outputs": [],
      "source": [
        "imputed_data['DMAR'] = imputed_data.DMAR.replace([2.0], [0])\n",
        "imputed_data['DMETH_REC'] = imputed_data.DMETH_REC.replace([2.0], [0])"
      ]
    },
    {
      "cell_type": "code",
      "execution_count": null,
      "id": "fc4c9119",
      "metadata": {
        "id": "fc4c9119"
      },
      "outputs": [],
      "source": [
        "imputed_data.info()"
      ]
    },
    {
      "cell_type": "markdown",
      "id": "ce138805",
      "metadata": {
        "id": "ce138805"
      },
      "source": [
        "## One Hot Encoding of Categorical Features"
      ]
    },
    {
      "cell_type": "code",
      "execution_count": null,
      "id": "1db85ba2",
      "metadata": {
        "id": "1db85ba2"
      },
      "outputs": [],
      "source": [
        "from sklearn.preprocessing import OneHotEncoder\n",
        "\n",
        "categorical_cols = ['MEDUC', 'MRACE31', 'MHISP_R', 'FRACE31', 'FHISP_R', 'FEDUC']\n",
        "\n",
        "encoder = OneHotEncoder(drop='first', sparse=False)\n",
        "OHE_encoded_data = pd.DataFrame(encoder.fit_transform(imputed_data[categorical_cols]))\n",
        "OHE_encoded_data.columns = encoder.get_feature_names_out(input_features=categorical_cols)"
      ]
    },
    {
      "cell_type": "code",
      "execution_count": null,
      "id": "b34f426f",
      "metadata": {
        "id": "b34f426f"
      },
      "outputs": [],
      "source": [
        "OHE_encoded_data.info()"
      ]
    },
    {
      "cell_type": "code",
      "execution_count": null,
      "id": "42e54e79",
      "metadata": {
        "id": "42e54e79"
      },
      "outputs": [],
      "source": [
        "OHE_encoded_data.columns"
      ]
    },
    {
      "cell_type": "code",
      "execution_count": null,
      "id": "6d233187",
      "metadata": {
        "id": "6d233187"
      },
      "outputs": [],
      "source": [
        "OHE_encoded_data.isna().sum()"
      ]
    },
    {
      "cell_type": "code",
      "execution_count": null,
      "id": "9b0689ea",
      "metadata": {
        "id": "9b0689ea"
      },
      "outputs": [],
      "source": [
        "imputed_encoded_data = pd.concat([imputed_data, OHE_encoded_data], axis=1)"
      ]
    },
    {
      "cell_type": "markdown",
      "id": "0e53ed3c",
      "metadata": {
        "id": "0e53ed3c"
      },
      "source": [
        "## Treatment of Outliers"
      ]
    },
    {
      "cell_type": "markdown",
      "id": "def2c79e",
      "metadata": {
        "id": "def2c79e"
      },
      "source": [
        "### Paternal Age"
      ]
    },
    {
      "cell_type": "code",
      "execution_count": null,
      "id": "2f36a476",
      "metadata": {
        "id": "2f36a476"
      },
      "outputs": [],
      "source": [
        "plt.boxplot(imputed_data.FAGECOMB)"
      ]
    },
    {
      "cell_type": "code",
      "execution_count": null,
      "id": "cfdfea59",
      "metadata": {
        "id": "cfdfea59"
      },
      "outputs": [],
      "source": [
        "q_FAGECOMB = imputed_data.FAGECOMB.quantile(0.997)"
      ]
    },
    {
      "cell_type": "code",
      "execution_count": null,
      "id": "2f753cd6",
      "metadata": {
        "id": "2f753cd6"
      },
      "outputs": [],
      "source": [
        "q_FAGECOMB"
      ]
    },
    {
      "cell_type": "markdown",
      "id": "52ba82c2",
      "metadata": {
        "id": "52ba82c2"
      },
      "source": [
        "### Prenatal Visits"
      ]
    },
    {
      "cell_type": "code",
      "execution_count": null,
      "id": "df7268cc",
      "metadata": {
        "id": "df7268cc"
      },
      "outputs": [],
      "source": [
        "plt.boxplot(imputed_data.PREVIS)"
      ]
    },
    {
      "cell_type": "code",
      "execution_count": null,
      "id": "1410bd34",
      "metadata": {
        "id": "1410bd34"
      },
      "outputs": [],
      "source": [
        "q_PREVIS = imputed_data.PREVIS.quantile(0.997)\n",
        "q_PREVIS"
      ]
    },
    {
      "cell_type": "markdown",
      "id": "d488c94f",
      "metadata": {
        "id": "d488c94f"
      },
      "source": [
        "### Infant Birth Weight"
      ]
    },
    {
      "cell_type": "code",
      "execution_count": null,
      "id": "efaf91a1",
      "metadata": {
        "id": "efaf91a1"
      },
      "outputs": [],
      "source": [
        "plt.boxplot(imputed_data.DBWT)"
      ]
    },
    {
      "cell_type": "code",
      "execution_count": null,
      "id": "c5aa1e21",
      "metadata": {
        "id": "c5aa1e21"
      },
      "outputs": [],
      "source": [
        "q_DBWT_high = imputed_data.DBWT.quantile(0.997)\n",
        "q_DBWT_low = imputed_data.DBWT.quantile(0.003)\n",
        "q_DBWT_high"
      ]
    },
    {
      "cell_type": "code",
      "execution_count": null,
      "id": "6ba30391",
      "metadata": {
        "id": "6ba30391"
      },
      "outputs": [],
      "source": [
        "q_DBWT_low"
      ]
    },
    {
      "cell_type": "code",
      "execution_count": null,
      "id": "4c9c323c",
      "metadata": {
        "id": "4c9c323c"
      },
      "outputs": [],
      "source": [
        "imputed_data['DBWT'].loc[(imputed_data.DBWT < 4840) & (imputed_data.DBWT > 619)].count()"
      ]
    },
    {
      "cell_type": "markdown",
      "id": "3e926bf8",
      "metadata": {
        "id": "3e926bf8"
      },
      "source": [
        "## Final Cleaned and Encoded Data Set"
      ]
    },
    {
      "cell_type": "code",
      "execution_count": null,
      "id": "c7adb28e",
      "metadata": {
        "id": "c7adb28e"
      },
      "outputs": [],
      "source": [
        "final_data = imputed_encoded_data[(imputed_encoded_data['FAGECOMB'] < q_FAGECOMB) & \n",
        "                                                     (imputed_encoded_data['PREVIS'] < q_PREVIS) & \n",
        "                                                     (imputed_encoded_data['DBWT'] > q_DBWT_low) & \n",
        "                                                     (imputed_encoded_data['DBWT'] < q_DBWT_high)]"
      ]
    },
    {
      "cell_type": "code",
      "execution_count": null,
      "id": "f6e95970",
      "metadata": {
        "id": "f6e95970"
      },
      "outputs": [],
      "source": [
        "final_data.info()"
      ]
    },
    {
      "cell_type": "code",
      "execution_count": null,
      "id": "ee7f63a4",
      "metadata": {
        "id": "ee7f63a4"
      },
      "outputs": [],
      "source": [
        "final_data.to_csv('final_data.csv')"
      ]
    },
    {
      "cell_type": "code",
      "execution_count": 3,
      "id": "549ef69b",
      "metadata": {
        "id": "549ef69b"
      },
      "outputs": [],
      "source": [
        "final_data = pd.read_csv('final_data.csv')"
      ]
    },
    {
      "cell_type": "code",
      "execution_count": 4,
      "id": "8b4fb853",
      "metadata": {
        "colab": {
          "base_uri": "https://localhost:8080/"
        },
        "id": "8b4fb853",
        "outputId": "c4cb0a4f-b9f7-47cb-974f-7cc72ea74185"
      },
      "outputs": [
        {
          "output_type": "stream",
          "name": "stdout",
          "text": [
            "<class 'pandas.core.frame.DataFrame'>\n",
            "RangeIndex: 987629 entries, 0 to 987628\n",
            "Columns: 102 entries, Unnamed: 0 to FEDUC_8.0\n",
            "dtypes: float64(101), int64(1)\n",
            "memory usage: 768.6 MB\n"
          ]
        }
      ],
      "source": [
        "final_data.info()"
      ]
    },
    {
      "cell_type": "markdown",
      "id": "657378f9",
      "metadata": {
        "id": "657378f9"
      },
      "source": [
        "## Split Data into Train and Test Sets"
      ]
    },
    {
      "cell_type": "code",
      "execution_count": 5,
      "id": "00379d12",
      "metadata": {
        "id": "00379d12"
      },
      "outputs": [],
      "source": [
        "from sklearn.model_selection import train_test_split\n",
        "\n",
        "train_set, test_set = train_test_split(final_data, test_size=0.2, random_state=0)"
      ]
    },
    {
      "cell_type": "raw",
      "id": "f1bdef59",
      "metadata": {
        "id": "f1bdef59"
      },
      "source": []
    },
    {
      "cell_type": "code",
      "execution_count": 6,
      "id": "2955bfc2",
      "metadata": {
        "id": "2955bfc2"
      },
      "outputs": [],
      "source": [
        "#features training sets\n",
        "X_paternal_train = train_set[['DMAR', 'FAGECOMB', 'FRACE31_2.0', 'FRACE31_3.0', 'FRACE31_4.0', 'FRACE31_5.0', \n",
        "                              'FRACE31_6.0', 'FRACE31_7.0', 'FRACE31_8.0', 'FRACE31_9.0', 'FRACE31_10.0', \n",
        "                              'FRACE31_11.0', 'FRACE31_12.0', 'FRACE31_13.0', 'FRACE31_14.0', 'FRACE31_15.0', \n",
        "                              'FRACE31_16.0', 'FRACE31_17.0', 'FRACE31_18.0', 'FRACE31_19.0', 'FRACE31_20.0', \n",
        "                              'FRACE31_21.0', 'FRACE31_22.0', 'FRACE31_23.0', 'FRACE31_24.0', 'FRACE31_25.0',\n",
        "                              'FRACE31_26.0', 'FRACE31_27.0', 'FRACE31_28.0', 'FRACE31_29.0', 'FRACE31_30.0', \n",
        "                              'FRACE31_31.0', 'FHISP_R_1.0', 'FHISP_R_2.0', 'FHISP_R_3.0', 'FHISP_R_4.0', \n",
        "                              'FHISP_R_5.0', 'FEDUC_2.0', 'FEDUC_3.0', 'FEDUC_4.0', 'FEDUC_5.0', 'FEDUC_6.0', \n",
        "                              'FEDUC_7.0', 'FEDUC_8.0']]\n",
        "\n",
        "X_maternal_train = train_set[['DMAR', 'MAGER', 'MEDUC_2.0', 'MEDUC_3.0', 'MEDUC_4.0', 'MEDUC_5.0', 'MEDUC_6.0',\n",
        "                              'MEDUC_7.0', 'MEDUC_8.0', 'MRACE31_2.0', 'MRACE31_3.0', 'MRACE31_4.0', 'MRACE31_5.0', \n",
        "                              'MRACE31_6.0', 'MRACE31_7.0', 'MRACE31_8.0', 'MRACE31_9.0', 'MRACE31_10.0', \n",
        "                              'MRACE31_11.0', 'MRACE31_12.0', 'MRACE31_13.0', 'MRACE31_14.0', 'MRACE31_15.0', \n",
        "                              'MRACE31_16.0', 'MRACE31_17.0', 'MRACE31_18.0', 'MRACE31_19.0', 'MRACE31_20.0',\n",
        "                              'MRACE31_21.0', 'MRACE31_22.0', 'MRACE31_23.0', 'MRACE31_24.0', 'MRACE31_25.0', \n",
        "                              'MRACE31_26.0', 'MRACE31_27.0', 'MRACE31_28.0', 'MRACE31_29.0', 'MRACE31_30.0', \n",
        "                              'MRACE31_31.0', 'MHISP_R_1.0', 'MHISP_R_2.0', 'MHISP_R_3.0', 'MHISP_R_4.0', 'MHISP_R_5.0',]]\n",
        "\n",
        "X_combined_train = train_set[['DMAR', 'FAGECOMB', 'MAGER', 'MEDUC_2.0', 'MEDUC_3.0', 'MEDUC_4.0', 'MEDUC_5.0', 'MEDUC_6.0',\n",
        "                              'MEDUC_7.0', 'MEDUC_8.0', 'MRACE31_2.0', 'MRACE31_3.0', 'MRACE31_4.0', 'MRACE31_5.0', \n",
        "                              'MRACE31_6.0', 'MRACE31_7.0', 'MRACE31_8.0', 'MRACE31_9.0', 'MRACE31_10.0', 'MRACE31_11.0', \n",
        "                              'MRACE31_12.0', 'MRACE31_13.0', 'MRACE31_14.0', 'MRACE31_15.0', 'MRACE31_16.0', \n",
        "                              'MRACE31_17.0', 'MRACE31_18.0', 'MRACE31_19.0', 'MRACE31_20.0', 'MRACE31_21.0', \n",
        "                              'MRACE31_22.0', 'MRACE31_23.0', 'MRACE31_24.0', 'MRACE31_25.0', 'MRACE31_26.0', \n",
        "                              'MRACE31_27.0', 'MRACE31_28.0', 'MRACE31_29.0', 'MRACE31_30.0', 'MRACE31_31.0', \n",
        "                              'MHISP_R_1.0', 'MHISP_R_2.0', 'MHISP_R_3.0', 'MHISP_R_4.0', 'MHISP_R_5.0', 'FRACE31_2.0', \n",
        "                              'FRACE31_3.0', 'FRACE31_4.0', 'FRACE31_5.0', 'FRACE31_6.0', 'FRACE31_7.0', 'FRACE31_8.0', \n",
        "                              'FRACE31_9.0', 'FRACE31_10.0', 'FRACE31_11.0', 'FRACE31_12.0', 'FRACE31_13.0', 'FRACE31_14.0',\n",
        "                              'FRACE31_15.0', 'FRACE31_16.0', 'FRACE31_17.0', 'FRACE31_18.0', 'FRACE31_19.0', \n",
        "                              'FRACE31_20.0', 'FRACE31_21.0', 'FRACE31_22.0', 'FRACE31_23.0', 'FRACE31_24.0', \n",
        "                              'FRACE31_25.0', 'FRACE31_26.0', 'FRACE31_27.0', 'FRACE31_28.0', 'FRACE31_29.0', \n",
        "                              'FRACE31_30.0', 'FRACE31_31.0', 'FHISP_R_1.0', 'FHISP_R_2.0', 'FHISP_R_3.0', 'FHISP_R_4.0', \n",
        "                              'FHISP_R_5.0', 'FEDUC_2.0', 'FEDUC_3.0', 'FEDUC_4.0', 'FEDUC_5.0', 'FEDUC_6.0', \n",
        "                              'FEDUC_7.0', 'FEDUC_8.0']]\n",
        "\n",
        "# responses training sets \n",
        "y_clf_train = train_set[['WIC_R', 'TRIAL_R', 'DMETH_REC', 'BFED_R']]\n",
        "y_reg_train = train_set[['PREVIS', 'DBWT', 'OEGEST_COMB']]"
      ]
    },
    {
      "cell_type": "code",
      "execution_count": 7,
      "id": "85443597",
      "metadata": {
        "id": "85443597"
      },
      "outputs": [],
      "source": [
        "# features test sets \n",
        "X_paternal_test = test_set[['DMAR', 'FAGECOMB', 'FRACE31_2.0', 'FRACE31_3.0', 'FRACE31_4.0', 'FRACE31_5.0', \n",
        "                              'FRACE31_6.0', 'FRACE31_7.0', 'FRACE31_8.0', 'FRACE31_9.0', 'FRACE31_10.0', \n",
        "                              'FRACE31_11.0', 'FRACE31_12.0', 'FRACE31_13.0', 'FRACE31_14.0', 'FRACE31_15.0', \n",
        "                              'FRACE31_16.0', 'FRACE31_17.0', 'FRACE31_18.0', 'FRACE31_19.0', 'FRACE31_20.0', \n",
        "                              'FRACE31_21.0', 'FRACE31_22.0', 'FRACE31_23.0', 'FRACE31_24.0', 'FRACE31_25.0',\n",
        "                              'FRACE31_26.0', 'FRACE31_27.0', 'FRACE31_28.0', 'FRACE31_29.0', 'FRACE31_30.0', \n",
        "                              'FRACE31_31.0', 'FHISP_R_1.0', 'FHISP_R_2.0', 'FHISP_R_3.0', 'FHISP_R_4.0', \n",
        "                              'FHISP_R_5.0', 'FEDUC_2.0', 'FEDUC_3.0', 'FEDUC_4.0', 'FEDUC_5.0', 'FEDUC_6.0', \n",
        "                              'FEDUC_7.0', 'FEDUC_8.0']]\n",
        "\n",
        "X_maternal_test = test_set[['DMAR', 'MAGER', 'MEDUC_2.0', 'MEDUC_3.0', 'MEDUC_4.0', 'MEDUC_5.0', 'MEDUC_6.0',\n",
        "                              'MEDUC_7.0', 'MEDUC_8.0', 'MRACE31_2.0', 'MRACE31_3.0', 'MRACE31_4.0', 'MRACE31_5.0', \n",
        "                              'MRACE31_6.0', 'MRACE31_7.0', 'MRACE31_8.0', 'MRACE31_9.0', 'MRACE31_10.0', \n",
        "                              'MRACE31_11.0', 'MRACE31_12.0', 'MRACE31_13.0', 'MRACE31_14.0', 'MRACE31_15.0', \n",
        "                              'MRACE31_16.0', 'MRACE31_17.0', 'MRACE31_18.0', 'MRACE31_19.0', 'MRACE31_20.0',\n",
        "                              'MRACE31_21.0', 'MRACE31_22.0', 'MRACE31_23.0', 'MRACE31_24.0', 'MRACE31_25.0', \n",
        "                              'MRACE31_26.0', 'MRACE31_27.0', 'MRACE31_28.0', 'MRACE31_29.0', 'MRACE31_30.0', \n",
        "                              'MRACE31_31.0', 'MHISP_R_1.0', 'MHISP_R_2.0', 'MHISP_R_3.0', 'MHISP_R_4.0', 'MHISP_R_5.0',]]\n",
        "\n",
        "X_combined_test = test_set[['DMAR', 'FAGECOMB', 'MAGER', 'MEDUC_2.0', 'MEDUC_3.0', 'MEDUC_4.0', 'MEDUC_5.0', 'MEDUC_6.0',\n",
        "                              'MEDUC_7.0', 'MEDUC_8.0', 'MRACE31_2.0', 'MRACE31_3.0', 'MRACE31_4.0', 'MRACE31_5.0', \n",
        "                              'MRACE31_6.0', 'MRACE31_7.0', 'MRACE31_8.0', 'MRACE31_9.0', 'MRACE31_10.0', 'MRACE31_11.0', \n",
        "                              'MRACE31_12.0', 'MRACE31_13.0', 'MRACE31_14.0', 'MRACE31_15.0', 'MRACE31_16.0', \n",
        "                              'MRACE31_17.0', 'MRACE31_18.0', 'MRACE31_19.0', 'MRACE31_20.0', 'MRACE31_21.0', \n",
        "                              'MRACE31_22.0', 'MRACE31_23.0', 'MRACE31_24.0', 'MRACE31_25.0', 'MRACE31_26.0', \n",
        "                              'MRACE31_27.0', 'MRACE31_28.0', 'MRACE31_29.0', 'MRACE31_30.0', 'MRACE31_31.0', \n",
        "                              'MHISP_R_1.0', 'MHISP_R_2.0', 'MHISP_R_3.0', 'MHISP_R_4.0', 'MHISP_R_5.0', 'FRACE31_2.0', \n",
        "                              'FRACE31_3.0', 'FRACE31_4.0', 'FRACE31_5.0', 'FRACE31_6.0', 'FRACE31_7.0', 'FRACE31_8.0', \n",
        "                              'FRACE31_9.0', 'FRACE31_10.0', 'FRACE31_11.0', 'FRACE31_12.0', 'FRACE31_13.0', 'FRACE31_14.0',\n",
        "                              'FRACE31_15.0', 'FRACE31_16.0', 'FRACE31_17.0', 'FRACE31_18.0', 'FRACE31_19.0', \n",
        "                              'FRACE31_20.0', 'FRACE31_21.0', 'FRACE31_22.0', 'FRACE31_23.0', 'FRACE31_24.0', \n",
        "                              'FRACE31_25.0', 'FRACE31_26.0', 'FRACE31_27.0', 'FRACE31_28.0', 'FRACE31_29.0', \n",
        "                              'FRACE31_30.0', 'FRACE31_31.0', 'FHISP_R_1.0', 'FHISP_R_2.0', 'FHISP_R_3.0', 'FHISP_R_4.0', \n",
        "                              'FHISP_R_5.0', 'FEDUC_2.0', 'FEDUC_3.0', 'FEDUC_4.0', 'FEDUC_5.0', 'FEDUC_6.0', \n",
        "                              'FEDUC_7.0', 'FEDUC_8.0']]\n",
        "\n",
        "# responses test sets\n",
        "y_clf_test = test_set[['WIC_R', 'TRIAL_R', 'DMETH_REC', 'BFED_R']]\n",
        "y_reg_test = test_set[['PREVIS', 'DBWT', 'OEGEST_COMB']]"
      ]
    },
    {
      "cell_type": "code",
      "execution_count": 8,
      "id": "c6821b83",
      "metadata": {
        "id": "c6821b83",
        "colab": {
          "base_uri": "https://localhost:8080/"
        },
        "outputId": "518ce117-0cdd-4f63-84c4-9478ab62b59f"
      },
      "outputs": [
        {
          "output_type": "stream",
          "name": "stdout",
          "text": [
            "<class 'pandas.core.frame.DataFrame'>\n",
            "Int64Index: 790103 entries, 88550 to 985772\n",
            "Columns: 102 entries, Unnamed: 0 to FEDUC_8.0\n",
            "dtypes: float64(101), int64(1)\n",
            "memory usage: 620.9 MB\n"
          ]
        }
      ],
      "source": [
        "train_set.info()"
      ]
    },
    {
      "cell_type": "code",
      "execution_count": null,
      "id": "a1561bec",
      "metadata": {
        "id": "a1561bec"
      },
      "outputs": [],
      "source": [
        "test_set.info()"
      ]
    },
    {
      "cell_type": "markdown",
      "id": "00adfe2b",
      "metadata": {
        "id": "00adfe2b"
      },
      "source": [
        "## Hyperparameter Tuning for RandomForestClassifier() Models"
      ]
    },
    {
      "cell_type": "code",
      "source": [
        "rf_clf = RandomForestClassifier(n_estimators=100, max_depth=6, min_samples_split=2, random_state=42)\n",
        "clf_model = MultiOutputClassifier(estimator=rf_clf)"
      ],
      "metadata": {
        "id": "eo1UT1U5phaI"
      },
      "id": "eo1UT1U5phaI",
      "execution_count": 9,
      "outputs": []
    },
    {
      "cell_type": "markdown",
      "id": "bf1d3e86",
      "metadata": {
        "id": "bf1d3e86"
      },
      "source": [
        "### Paternal Features"
      ]
    },
    {
      "cell_type": "code",
      "execution_count": null,
      "id": "cb173f89",
      "metadata": {
        "id": "cb173f89",
        "outputId": "4b60dcaf-bd03-4ab8-caf3-f1942f5aa946"
      },
      "outputs": [
        {
          "name": "stdout",
          "output_type": "stream",
          "text": [
            "The best coarse parameters are:  {'estimator__max_depth': 5, 'estimator__min_samples_split': 5, 'estimator__n_estimators': 1000}\n"
          ]
        }
      ],
      "source": [
        "\n",
        "\n",
        "# Coarse RandomClassifier GridSearch - paternal\n",
        "param_grid_coarse_paternal = {'estimator__max_depth':[2, 4, 5],\n",
        "              'estimator__n_estimators':[250, 500, 1000],\n",
        "              'estimator__min_samples_split':[3, 5, 7]}\n",
        "\n",
        "gscv_paternal_clf_coarse = GridSearchCV(clf_model, param_grid_coarse_paternal, n_jobs=-1, cv=3)\n",
        "gscv_paternal_clf_coarse.fit(X_paternal_train.iloc[:200000], y_clf_train.iloc[:200000])\n",
        "\n",
        "print(\"The best coarse parameters are: \", gscv_paternal_clf_coarse.best_params_)"
      ]
    },
    {
      "cell_type": "code",
      "execution_count": null,
      "id": "e85891a1",
      "metadata": {
        "id": "e85891a1"
      },
      "outputs": [],
      "source": [
        "# Refined RandomForestClassifier GridSearch - paternal\n",
        "\n",
        "param_grid_refined_paternal = {'estimator__max_depth':[4,5,6,7,8], \n",
        "              'estimator__n_estimators': [900, 950, 1000, 1050, 1100], \n",
        "              'estimator__min_samples_split': [5,6,7,8,9,10,11,12]}\n",
        "\n",
        "gscv_paternal_clf_refined = GridSearchCV(clf_model, param_grid_refined_paternal, n_jobs=-1, cv=3)\n",
        "gscv_paternal_clf_refined.fit(X_paternal_train, y_clf_train)\n",
        "\n",
        "print(\"The best refined parameters are: \", gscv_paternal_clf_refined.best_params_)"
      ]
    },
    {
      "cell_type": "code",
      "execution_count": 10,
      "id": "0d9bd3d5",
      "metadata": {
        "id": "0d9bd3d5",
        "colab": {
          "base_uri": "https://localhost:8080/"
        },
        "outputId": "7c83d4c3-2e69-4906-ff36-21d295de642e"
      },
      "outputs": [
        {
          "output_type": "stream",
          "name": "stdout",
          "text": [
            "The best refined parameters are:  {'estimator__max_depth': 14, 'estimator__min_samples_split': 2, 'estimator__n_estimators': 250}\n"
          ]
        }
      ],
      "source": [
        "# Final RandomForestClassifier GridSearch - paternal\n",
        "param_grid_final_paternal = {'estimator__max_depth':[12, 14, 16], \n",
        "              'estimator__n_estimators': [250], \n",
        "              'estimator__min_samples_split': [2]}\n",
        "\n",
        "gscv_paternal_clf_final = GridSearchCV(clf_model, param_grid_final_paternal, n_jobs=-1, cv=3)\n",
        "gscv_paternal_clf_final.fit(X_paternal_train, y_clf_train)\n",
        "\n",
        "print(\"The best refined parameters are: \", gscv_paternal_clf_final.best_params_)"
      ]
    },
    {
      "cell_type": "markdown",
      "id": "c23fce25",
      "metadata": {
        "id": "c23fce25"
      },
      "source": [
        "### Maternal Features "
      ]
    },
    {
      "cell_type": "code",
      "execution_count": null,
      "id": "719bf5d9",
      "metadata": {
        "id": "719bf5d9"
      },
      "outputs": [],
      "source": [
        "# Coarse RandomClassifier GridSearch - maternal\n",
        "param_grid_coarse_maternal = {'estimator__max_depth':[2,4,5,8],\n",
        "              'estimator__n_estimators':[250, 500, 750, 1000],\n",
        "              'estimator__min_samples_split':[3, 5, 7, 9]}\n",
        "\n",
        "gscv_maternal_clf_coarse = GridSearchCV(clf_model, param_grid_coarse_maternal, n_jobs=-1, cv=3)\n",
        "gscv_maternal_clf_coarse.fit(X_maternal_train, y_clf_train)\n",
        "\n",
        "print(\"The best coarse parameters are: \", gscv_maternal_clf_coarse.best_params_)"
      ]
    },
    {
      "cell_type": "code",
      "execution_count": null,
      "id": "1c274cfb",
      "metadata": {
        "id": "1c274cfb"
      },
      "outputs": [],
      "source": [
        "# Refined RandomForestClassifier GridSearch - maternal\n",
        "\n",
        "param_grid_refined_maternal = {'estimator__max_depth':[4,5,6, 8], \n",
        "              'estimator__n_estimators': [900, 950, 1000, 1050, 1100], \n",
        "              'estimator__min_samples_split': [5,6,7,8,9,10,11,12]}\n",
        "\n",
        "gscv_maternal_clf_refined = GridSearchCV(clf_model, param_grid_refined_maternal, n_jobs=-1, cv=3)\n",
        "gscv_maternal_clf_refined.fit(X_maternal_train, y_clf_train)\n",
        "\n",
        "print(\"The best refined parameters are: \", gscv_maternal_clf_refined.best_params_)"
      ]
    },
    {
      "cell_type": "code",
      "execution_count": null,
      "id": "cd738617",
      "metadata": {
        "id": "cd738617"
      },
      "outputs": [],
      "source": [
        "# Final RandomForestClassifier GridSearch - maternal\n",
        "param_grid_final_maternal = {'estimator__max_depth':[4,5,6,7,8], \n",
        "              'estimator__n_estimators': [900, 950, 1000, 1050, 1100], \n",
        "              'estimator__min_samples_split': [5,6,7,8,9,10,11,12]}\n",
        "\n",
        "gscv_maternal_clf_final = GridSearchCV(clf_model, param_grid_final_maternal, n_jobs=-1, cv=3)\n",
        "gscv_maternal_clf_final.fit(X_maternal_train, y_clf_train)\n",
        "\n",
        "print(\"The best refined parameters are: \", gscv_maternal_clf_final.best_params_)"
      ]
    },
    {
      "cell_type": "markdown",
      "id": "093f0636",
      "metadata": {
        "id": "093f0636"
      },
      "source": [
        "### Combined Paternal and Maternal Features"
      ]
    },
    {
      "cell_type": "code",
      "execution_count": null,
      "id": "fbfcd44d",
      "metadata": {
        "id": "fbfcd44d"
      },
      "outputs": [],
      "source": [
        "# Coarse RandomClassifier GridSearch - combined\n",
        "param_grid_coarse_combined = {'estimator__max_depth':[2, 4, 5],\n",
        "              'estimator__n_estimators':[250, 500, 1000],\n",
        "              'estimator__min_samples_split':[3, 5, 7]}\n",
        "\n",
        "gscv_combined_clf_coarse = GridSearchCV(clf_model, param_grid_coarse_combined, n_jobs=-1, cv=3)\n",
        "gscv_combined_clf_coarse.fit(X_combined_train, y_clf_train)\n",
        "\n",
        "print(\"The best coarse parameters are: \", gscv_combined_clf_coarse.best_params_)"
      ]
    },
    {
      "cell_type": "code",
      "execution_count": null,
      "id": "0f1b9a8c",
      "metadata": {
        "id": "0f1b9a8c"
      },
      "outputs": [],
      "source": [
        "# Refined RandomForestClassifier GridSearch - combined\n",
        "\n",
        "param_grid_refined_combined = {'estimator__max_depth':[4,5,6,7,8], \n",
        "              'estimator__n_estimators': [900, 950, 1000, 1050, 1100], \n",
        "              'estimator__min_samples_split': [5,6,7,8,9,10,11,12]}\n",
        "\n",
        "gscv_combined_clf_refined = GridSearchCV(clf_model, param_grid_refined_combined, n_jobs=-1, cv=3)\n",
        "gscv_combined_clf_refined.fit(X_combined_train, y_clf_train)\n",
        "\n",
        "print(\"The best refined parameters are: \", gscv_combined_clf_refined.best_params_)"
      ]
    },
    {
      "cell_type": "code",
      "execution_count": null,
      "id": "83bfa122",
      "metadata": {
        "id": "83bfa122"
      },
      "outputs": [],
      "source": [
        "# Final RandomForestClassifier GridSearch - combined\n",
        "param_grid_final_combined = {'estimator__max_depth':[4,5,6,7,8], \n",
        "              'estimator__n_estimators': [900, 950, 1000, 1050, 1100], \n",
        "              'estimator__min_samples_split': [5,6,7,8,9,10,11,12]}\n",
        "\n",
        "gscv_combined_clf_final = GridSearchCV(clf_model, param_grid_final_combined, n_jobs=-1, cv=3)\n",
        "gscv_combined_clf_final.fit(X_combined_train, y_clf_train)\n",
        "\n",
        "print(\"The best refined parameters are: \", gscv_combined_clf_final.best_params_)"
      ]
    },
    {
      "cell_type": "markdown",
      "id": "7ecea9ae",
      "metadata": {
        "id": "7ecea9ae"
      },
      "source": [
        "## RandomForestClassifier() Models"
      ]
    },
    {
      "cell_type": "code",
      "source": [
        "# RandomForestClassifier model on paternal features using default hyperparameter values\n",
        "rf_clf_paternal = MultiOutputClassifier(RandomForestClassifier(max_depth=20, random_state=42))\n",
        "rf_clf_paternal.fit(X_paternal_train, y_clf_train)"
      ],
      "metadata": {
        "colab": {
          "base_uri": "https://localhost:8080/"
        },
        "id": "4EkMv47Bv34X",
        "outputId": "ea848a73-22fc-4b93-d63d-57fe240450b2"
      },
      "id": "4EkMv47Bv34X",
      "execution_count": 11,
      "outputs": [
        {
          "output_type": "execute_result",
          "data": {
            "text/plain": [
              "MultiOutputClassifier(estimator=RandomForestClassifier(max_depth=20,\n",
              "                                                       random_state=42))"
            ]
          },
          "metadata": {},
          "execution_count": 11
        }
      ]
    },
    {
      "cell_type": "code",
      "source": [
        "# predict responses based on the default paternal RandomForestClassifier model\n",
        "y_pred_rf_clf_paternal = rf_clf_paternal.predict(X_paternal_test)\n",
        "y_pred_rf_clf_paternal"
      ],
      "metadata": {
        "colab": {
          "base_uri": "https://localhost:8080/"
        },
        "id": "5DqEbMalwNyf",
        "outputId": "ee072cb7-35ce-4c1e-93cc-3e7397c4076f"
      },
      "id": "5DqEbMalwNyf",
      "execution_count": 12,
      "outputs": [
        {
          "output_type": "execute_result",
          "data": {
            "text/plain": [
              "array([[0., 1., 1., 1.],\n",
              "       [0., 1., 1., 1.],\n",
              "       [0., 1., 1., 1.],\n",
              "       ...,\n",
              "       [1., 1., 1., 1.],\n",
              "       [0., 1., 1., 1.],\n",
              "       [0., 1., 1., 1.]])"
            ]
          },
          "metadata": {},
          "execution_count": 12
        }
      ]
    },
    {
      "cell_type": "code",
      "execution_count": null,
      "id": "e0e4ddce",
      "metadata": {
        "id": "e0e4ddce"
      },
      "outputs": [],
      "source": [
        "# Optimal RandomForestClassifier Model based on GridSearch results for paternal features\n",
        "optimal_rf_clf_paternal = RandomForestClassifier(max_depth=gscv_paternal_clf_final.best_params_['estimator__max_depth'],\n",
        "                                   n_estimators=gscv_paternal_clf_final.best_params_['estimator__n_estimators'],\n",
        "                                   min_samples_split=gscv_paternal_clf_final.best_params_['estimator__min_samples_split'],\n",
        "                                   random_state=42)\n",
        "optimal_rf_clf_paternal.fit(X_paternal_train, y_clf_train)"
      ]
    },
    {
      "cell_type": "code",
      "execution_count": null,
      "id": "f396260b",
      "metadata": {
        "id": "f396260b"
      },
      "outputs": [],
      "source": [
        "#predict responses based on the optimal paternal RandomForestClassifier model\n",
        "y_pred_rf_clf_paternal_optimal = optimal_rf_clf_paternal.predict(X_paternal_test)\n",
        "y_pred_rf_clf_paternal_optimal"
      ]
    },
    {
      "cell_type": "code",
      "source": [
        "# RandomForestClassifier model on maternal features using default hyperparameter values\n",
        "rf_clf_maternal = MultiOutputClassifier(RandomForestClassifier(max_depth=20, random_state=42))\n",
        "rf_clf_maternal.fit(X_maternal_train, y_clf_train)"
      ],
      "metadata": {
        "colab": {
          "base_uri": "https://localhost:8080/"
        },
        "id": "yKnz47jhxpAu",
        "outputId": "49cae3b3-f65f-4a1b-c00c-28fcc19db1ab"
      },
      "id": "yKnz47jhxpAu",
      "execution_count": 13,
      "outputs": [
        {
          "output_type": "execute_result",
          "data": {
            "text/plain": [
              "MultiOutputClassifier(estimator=RandomForestClassifier(max_depth=20,\n",
              "                                                       random_state=42))"
            ]
          },
          "metadata": {},
          "execution_count": 13
        }
      ]
    },
    {
      "cell_type": "code",
      "source": [
        "# predict responses based on the default maternal RandomForestClassifier model\n",
        "y_pred_rf_clf_maternal = rf_clf_maternal.predict(X_maternal_test)\n",
        "y_pred_rf_clf_maternal"
      ],
      "metadata": {
        "colab": {
          "base_uri": "https://localhost:8080/"
        },
        "id": "aSAACeBjyqpt",
        "outputId": "d608eeb5-5a09-453c-f7a0-f2a188719975"
      },
      "id": "aSAACeBjyqpt",
      "execution_count": 14,
      "outputs": [
        {
          "output_type": "execute_result",
          "data": {
            "text/plain": [
              "array([[0., 1., 1., 1.],\n",
              "       [0., 1., 1., 1.],\n",
              "       [0., 1., 1., 1.],\n",
              "       ...,\n",
              "       [0., 1., 1., 1.],\n",
              "       [0., 1., 1., 1.],\n",
              "       [0., 1., 1., 1.]])"
            ]
          },
          "metadata": {},
          "execution_count": 14
        }
      ]
    },
    {
      "cell_type": "code",
      "execution_count": null,
      "id": "f0c42a19",
      "metadata": {
        "id": "f0c42a19"
      },
      "outputs": [],
      "source": [
        "# Optimal RandomForestClassifier Model based on GridSearch results for maternal features\n",
        "optimal_rf_clf_maternal = RandomForestClassifier(max_depth=gscv_maternal_clf_final.best_params_['estimator__max_depth'],\n",
        "                                   n_estimators=gscv_maternal_clf_final.best_params_['estimator__n_estimators'],\n",
        "                                   min_samples_split=gscv_maternal_clf_final.best_params_['estimator__min_samples_split'],\n",
        "                                   random_state=42)\n",
        "optimal_rf_clf_maternal.fit(X_maternal_train, y_clf_train)"
      ]
    },
    {
      "cell_type": "code",
      "execution_count": null,
      "id": "50f2066b",
      "metadata": {
        "id": "50f2066b"
      },
      "outputs": [],
      "source": [
        "#predict responses based on the optimal maternal RandomForestClassifier model\n",
        "y_pred_rf_clf_maternal_optimal = optimal_rf_clf_maternal.predict(X_maternal_test)\n",
        "y_pred_rf_clf_maternal_optimal"
      ]
    },
    {
      "cell_type": "code",
      "source": [
        "# RandomForestClassifier model on combined paternal and maternal features using default hyperparameter values\n",
        "rf_clf_combined = MultiOutputClassifier(RandomForestClassifier(max_depth=20, random_state=42))\n",
        "rf_clf_combined.fit(X_combined_train, y_clf_train)"
      ],
      "metadata": {
        "colab": {
          "base_uri": "https://localhost:8080/"
        },
        "id": "4mt7Q7hoyc-2",
        "outputId": "c79ba765-d741-4bb8-9afa-16769eec59fa"
      },
      "id": "4mt7Q7hoyc-2",
      "execution_count": 25,
      "outputs": [
        {
          "output_type": "execute_result",
          "data": {
            "text/plain": [
              "MultiOutputClassifier(estimator=RandomForestClassifier(max_depth=20,\n",
              "                                                       random_state=42))"
            ]
          },
          "metadata": {},
          "execution_count": 25
        }
      ]
    },
    {
      "cell_type": "code",
      "source": [
        "# predict responses based on the default combined RandomForestClassifier model\n",
        "y_pred_rf_clf_combined = rf_clf_combined.predict(X_combined_test)\n",
        "y_pred_rf_clf_combined"
      ],
      "metadata": {
        "colab": {
          "base_uri": "https://localhost:8080/"
        },
        "id": "k3C22L-4yyZd",
        "outputId": "bee08565-4e8f-4ce9-cf86-02b867703259"
      },
      "id": "k3C22L-4yyZd",
      "execution_count": 26,
      "outputs": [
        {
          "output_type": "execute_result",
          "data": {
            "text/plain": [
              "array([[0., 1., 1., 1.],\n",
              "       [0., 1., 1., 1.],\n",
              "       [0., 1., 1., 1.],\n",
              "       ...,\n",
              "       [1., 1., 1., 1.],\n",
              "       [0., 1., 1., 1.],\n",
              "       [0., 1., 1., 1.]])"
            ]
          },
          "metadata": {},
          "execution_count": 26
        }
      ]
    },
    {
      "cell_type": "code",
      "execution_count": null,
      "id": "6f4c9d3e",
      "metadata": {
        "id": "6f4c9d3e"
      },
      "outputs": [],
      "source": [
        "# Optimal RandomForestClassifier Model based on GridSearch results for combined paternal and maternal features\n",
        "optimal_rf_clf_combined = RandomForestClassifier(max_depth=gscv_combined_clf_final.best_params_['estimator__max_depth'],\n",
        "                                   n_estimators=gscv_combined_clf_final.best_params_['estimator__n_estimators'],\n",
        "                                   min_samples_split=gscv_combined_clf_final.best_params_['estimator__min_samples_split'],\n",
        "                                   random_state=42)\n",
        "optimal_rf_clf_combined.fit(X_combined_train, y_clf_train)"
      ]
    },
    {
      "cell_type": "code",
      "execution_count": null,
      "id": "1b5637dc",
      "metadata": {
        "id": "1b5637dc"
      },
      "outputs": [],
      "source": [
        "#predict responses based on the combined paternal and maternal RandomForestClassifier model\n",
        "y_pred_rf_clf_combined = optimal_rf_clf_combined.predict(X_combined_test)\n",
        "y_pred_rf_clf_combined"
      ]
    },
    {
      "cell_type": "markdown",
      "id": "46ffe089",
      "metadata": {
        "id": "46ffe089"
      },
      "source": [
        "## Permutation Importance for RandomForestClassifier() Models"
      ]
    },
    {
      "cell_type": "code",
      "execution_count": null,
      "id": "0c99495b",
      "metadata": {
        "id": "0c99495b"
      },
      "outputs": [],
      "source": [
        "from sklearn.inspection import permutation_importance\n",
        "\n",
        "# permutation importance for paternal RandomForestClassifier Model\n",
        "r_clf_paternal = permutation_importance(rf_clf_paternal, X_paternal_test, y_clf_test, n_repeats=10, random_state=42)"
      ]
    },
    {
      "cell_type": "code",
      "execution_count": null,
      "id": "8d3b4f9b",
      "metadata": {
        "id": "8d3b4f9b"
      },
      "outputs": [],
      "source": [
        "r_clf_paternal.importances_mean"
      ]
    },
    {
      "cell_type": "code",
      "execution_count": null,
      "id": "a2e906a3",
      "metadata": {
        "id": "a2e906a3"
      },
      "outputs": [],
      "source": [
        "r_clf_paternal.importances"
      ]
    },
    {
      "cell_type": "code",
      "execution_count": null,
      "id": "848df26b",
      "metadata": {
        "id": "848df26b"
      },
      "outputs": [],
      "source": [
        "# permutation importance for maternal RandomForestClassifier Model\n",
        "r_clf_maternal = permutation_importance(rf_clf_maternal, X_maternal_test, y_clf_test, n_repeats=10, random_state=42)"
      ]
    },
    {
      "cell_type": "code",
      "execution_count": null,
      "id": "19e6d9bc",
      "metadata": {
        "id": "19e6d9bc"
      },
      "outputs": [],
      "source": [
        "r_clf_maternal.importances_mean"
      ]
    },
    {
      "cell_type": "code",
      "execution_count": null,
      "id": "fd5f0a1e",
      "metadata": {
        "id": "fd5f0a1e"
      },
      "outputs": [],
      "source": [
        "r_clf_maternal.importances"
      ]
    },
    {
      "cell_type": "code",
      "execution_count": null,
      "id": "0911c142",
      "metadata": {
        "id": "0911c142"
      },
      "outputs": [],
      "source": [
        "# permutation importance for combined RandomForestClassifier Model\n",
        "r_clf_combined = permutation_importance(rf_clf_combined, X_combined_test, y_clf_test, n_repeats=10, random_state=42)"
      ]
    },
    {
      "cell_type": "code",
      "execution_count": null,
      "id": "c7af9264",
      "metadata": {
        "id": "c7af9264"
      },
      "outputs": [],
      "source": [
        "r_clf_combined.importances_mean"
      ]
    },
    {
      "cell_type": "code",
      "execution_count": null,
      "id": "b8ec0998",
      "metadata": {
        "id": "b8ec0998"
      },
      "outputs": [],
      "source": [
        "r_clf_combined.importances"
      ]
    },
    {
      "cell_type": "markdown",
      "id": "a13619bd",
      "metadata": {
        "id": "a13619bd"
      },
      "source": [
        "### Accuracy, Precision, Recall, and F1 Scores for RandomForestClassifier() Models"
      ]
    },
    {
      "cell_type": "code",
      "execution_count": 15,
      "id": "53902c2a",
      "metadata": {
        "id": "53902c2a",
        "colab": {
          "base_uri": "https://localhost:8080/"
        },
        "outputId": "9ec044d5-99e1-4e38-8d96-fe4fafc65725"
      },
      "outputs": [
        {
          "output_type": "execute_result",
          "data": {
            "text/plain": [
              "0.4312141186476717"
            ]
          },
          "metadata": {},
          "execution_count": 15
        }
      ],
      "source": [
        "from sklearn.metrics import accuracy_score, precision_score, recall_score, f1_score\n",
        "\n",
        "#RandomForestClassifier accuracy of default paternal model\n",
        "rf_paternal_accuracy = accuracy_score(y_clf_test, y_pred_rf_clf_paternal)\n",
        "rf_paternal_accuracy"
      ]
    },
    {
      "cell_type": "code",
      "source": [
        "#RandomForestClassifier accuracy of optimal paternal model\n",
        "optimal_rf_paternal_accuracy = accuracy_score(y_clf_test, y_pred_rf_clf_paternal)\n",
        "rf_paternal_accuracy"
      ],
      "metadata": {
        "id": "FAN6ya2GxCaG"
      },
      "id": "FAN6ya2GxCaG",
      "execution_count": null,
      "outputs": []
    },
    {
      "cell_type": "code",
      "execution_count": 16,
      "id": "3b526b2c",
      "metadata": {
        "id": "3b526b2c",
        "colab": {
          "base_uri": "https://localhost:8080/"
        },
        "outputId": "16f1b0d8-09d1-476b-b611-857560a47a58"
      },
      "outputs": [
        {
          "output_type": "execute_result",
          "data": {
            "text/plain": [
              "0.43215576683575835"
            ]
          },
          "metadata": {},
          "execution_count": 16
        }
      ],
      "source": [
        "#RandomForestClassifier accuracy of maternal model\n",
        "rf_maternal_accuracy = accuracy_score(y_clf_test, y_pred_rf_clf_maternal)\n",
        "rf_maternal_accuracy"
      ]
    },
    {
      "cell_type": "code",
      "execution_count": 27,
      "id": "3e9c0290",
      "metadata": {
        "id": "3e9c0290",
        "colab": {
          "base_uri": "https://localhost:8080/"
        },
        "outputId": "2c681b9b-b3ef-4eb6-ddfa-2b3117051662"
      },
      "outputs": [
        {
          "output_type": "execute_result",
          "data": {
            "text/plain": [
              "0.4365754381701649"
            ]
          },
          "metadata": {},
          "execution_count": 27
        }
      ],
      "source": [
        "#RandomForestClassifier accuracy of combined model\n",
        "rf_combined_accuracy = accuracy_score(y_clf_test, y_pred_rf_clf_combined)\n",
        "rf_combined_accuracy"
      ]
    },
    {
      "cell_type": "code",
      "execution_count": 18,
      "id": "81be8bb0",
      "metadata": {
        "id": "81be8bb0",
        "colab": {
          "base_uri": "https://localhost:8080/"
        },
        "outputId": "05841fa1-2456-4984-c08e-ecad5e25c529"
      },
      "outputs": [
        {
          "output_type": "execute_result",
          "data": {
            "text/plain": [
              "0.7469327383567577"
            ]
          },
          "metadata": {},
          "execution_count": 18
        }
      ],
      "source": [
        "#RandomForestClassifier precision of paternal model\n",
        "rf_paternal_precision = precision_score(y_clf_test, y_pred_rf_clf_paternal, average='micro')\n",
        "rf_paternal_precision"
      ]
    },
    {
      "cell_type": "code",
      "execution_count": 19,
      "id": "ec39cc29",
      "metadata": {
        "id": "ec39cc29",
        "colab": {
          "base_uri": "https://localhost:8080/"
        },
        "outputId": "21f2237d-f03e-4491-c7c0-5c3ad3e7de71"
      },
      "outputs": [
        {
          "output_type": "execute_result",
          "data": {
            "text/plain": [
              "0.7489995487158844"
            ]
          },
          "metadata": {},
          "execution_count": 19
        }
      ],
      "source": [
        "#RandomForestClassifier precision of maternal model\n",
        "rf_maternal_precision = precision_score(y_clf_test, y_pred_rf_clf_maternal, average='micro')\n",
        "rf_maternal_precision"
      ]
    },
    {
      "cell_type": "code",
      "execution_count": 28,
      "id": "539ccac3",
      "metadata": {
        "id": "539ccac3",
        "colab": {
          "base_uri": "https://localhost:8080/"
        },
        "outputId": "4d9eebf9-220a-41b3-b641-557cc4bb30e9"
      },
      "outputs": [
        {
          "output_type": "execute_result",
          "data": {
            "text/plain": [
              "0.7489207271976747"
            ]
          },
          "metadata": {},
          "execution_count": 28
        }
      ],
      "source": [
        "#RandomForestClassifier precision of combined model\n",
        "rf_combined_precision = precision_score(y_clf_test, y_pred_rf_clf_combined, average='micro')\n",
        "rf_combined_precision"
      ]
    },
    {
      "cell_type": "code",
      "execution_count": 20,
      "id": "81b62566",
      "metadata": {
        "id": "81b62566",
        "colab": {
          "base_uri": "https://localhost:8080/"
        },
        "outputId": "3ebac27f-15be-4457-aaa6-cbbd4bf9efd8"
      },
      "outputs": [
        {
          "output_type": "execute_result",
          "data": {
            "text/plain": [
              "0.9366509094545233"
            ]
          },
          "metadata": {},
          "execution_count": 20
        }
      ],
      "source": [
        "#RandomForestClassifier recall of paternal model\n",
        "rf_paternal_recall = recall_score(y_clf_test, y_pred_rf_clf_paternal, average='micro')\n",
        "rf_paternal_recall"
      ]
    },
    {
      "cell_type": "code",
      "execution_count": 21,
      "id": "7752919e",
      "metadata": {
        "id": "7752919e",
        "colab": {
          "base_uri": "https://localhost:8080/"
        },
        "outputId": "2348adf9-13e2-48c5-ed84-d8a8413d1ac1"
      },
      "outputs": [
        {
          "output_type": "execute_result",
          "data": {
            "text/plain": [
              "0.9339353882411069"
            ]
          },
          "metadata": {},
          "execution_count": 21
        }
      ],
      "source": [
        "#RandomForestClassifier recall of maternal model\n",
        "rf_maternal_recall = recall_score(y_clf_test, y_pred_rf_clf_maternal, average='micro')\n",
        "rf_maternal_recall"
      ]
    },
    {
      "cell_type": "code",
      "execution_count": 29,
      "id": "8aab6ce3",
      "metadata": {
        "id": "8aab6ce3",
        "colab": {
          "base_uri": "https://localhost:8080/"
        },
        "outputId": "b41d58d5-4fe4-4ccb-fd74-a36fc390e5bc"
      },
      "outputs": [
        {
          "output_type": "execute_result",
          "data": {
            "text/plain": [
              "0.9391056622048464"
            ]
          },
          "metadata": {},
          "execution_count": 29
        }
      ],
      "source": [
        "#RandomForestClassifier recall of combined model\n",
        "rf_combined_recall = recall_score(y_clf_test, y_pred_rf_clf_combined, average='micro')\n",
        "rf_combined_recall"
      ]
    },
    {
      "cell_type": "code",
      "execution_count": 23,
      "id": "d70d8cdc",
      "metadata": {
        "id": "d70d8cdc",
        "colab": {
          "base_uri": "https://localhost:8080/"
        },
        "outputId": "389d6786-d926-4b3e-c5df-45c72881de91"
      },
      "outputs": [
        {
          "output_type": "execute_result",
          "data": {
            "text/plain": [
              "0.8311024279580517"
            ]
          },
          "metadata": {},
          "execution_count": 23
        }
      ],
      "source": [
        "#RandomForestClassifier F1 scores of paternal model\n",
        "rf_paternal_f1 = f1_score(y_clf_test, y_pred_rf_clf_paternal, average='micro')\n",
        "rf_paternal_f1"
      ]
    },
    {
      "cell_type": "code",
      "execution_count": 24,
      "id": "655aef33",
      "metadata": {
        "id": "655aef33",
        "colab": {
          "base_uri": "https://localhost:8080/"
        },
        "outputId": "1037fbb7-ae52-42e2-f059-0193abbe1d7e"
      },
      "outputs": [
        {
          "output_type": "execute_result",
          "data": {
            "text/plain": [
              "0.831306272109627"
            ]
          },
          "metadata": {},
          "execution_count": 24
        }
      ],
      "source": [
        "#RandomForestClassifier F1 scores of maternal model\n",
        "rf_maternal_f1 = f1_score(y_clf_test, y_pred_rf_clf_maternal, average='micro')\n",
        "rf_maternal_f1"
      ]
    },
    {
      "cell_type": "code",
      "execution_count": 31,
      "id": "461d14c3",
      "metadata": {
        "id": "461d14c3",
        "colab": {
          "base_uri": "https://localhost:8080/"
        },
        "outputId": "9dc0e0d2-e745-4123-b3f9-4a53f97c85e2"
      },
      "outputs": [
        {
          "output_type": "execute_result",
          "data": {
            "text/plain": [
              "0.8332994079587189"
            ]
          },
          "metadata": {},
          "execution_count": 31
        }
      ],
      "source": [
        "#RandomForestClassifier F1 scores of combined model\n",
        "rf_combined_f1 = f1_score(y_clf_test, y_pred_rf_clf_combined, average='micro')\n",
        "rf_combined_f1"
      ]
    },
    {
      "cell_type": "markdown",
      "id": "bbbe4618",
      "metadata": {
        "id": "bbbe4618"
      },
      "source": [
        "## RandomForestRegressor() Models"
      ]
    },
    {
      "cell_type": "code",
      "execution_count": 32,
      "id": "a7667feb",
      "metadata": {
        "id": "a7667feb"
      },
      "outputs": [],
      "source": [
        "rf_reg_paternal = MultiOutputRegressor(RandomForestRegressor(max_depth=20, random_state=42)).fit(X_paternal_train, y_reg_train)"
      ]
    },
    {
      "cell_type": "code",
      "execution_count": 33,
      "id": "1393f7a8",
      "metadata": {
        "id": "1393f7a8",
        "colab": {
          "base_uri": "https://localhost:8080/"
        },
        "outputId": "5b1804dd-29df-4e25-82ea-f3e36ca8ea1a"
      },
      "outputs": [
        {
          "output_type": "execute_result",
          "data": {
            "text/plain": [
              "array([[  11.39048315, 3307.77177097,   38.25474835],\n",
              "       [  11.45855102, 3288.47827941,   38.27528491],\n",
              "       [  11.05104166, 3132.30925627,   37.74003829],\n",
              "       ...,\n",
              "       [  10.50712116, 3293.6082583 ,   38.12360387],\n",
              "       [  11.09820264, 3236.99167276,   38.62276032],\n",
              "       [  10.54311823, 3213.17291354,   38.27903393]])"
            ]
          },
          "metadata": {},
          "execution_count": 33
        }
      ],
      "source": [
        "#predict responses based on the paternal RandomForestRegressor model\n",
        "y_pred_rf_reg_paternal = rf_reg_paternal.predict(X_paternal_test)\n",
        "y_pred_rf_reg_paternal"
      ]
    },
    {
      "cell_type": "code",
      "source": [
        "rf_reg_maternal = MultiOutputRegressor(RandomForestRegressor(max_depth=20, random_state=42)).fit(X_maternal_train, y_reg_train)"
      ],
      "metadata": {
        "id": "lpdH5Z8mKuTV"
      },
      "id": "lpdH5Z8mKuTV",
      "execution_count": 37,
      "outputs": []
    },
    {
      "cell_type": "code",
      "execution_count": 38,
      "id": "43eeafb7",
      "metadata": {
        "id": "43eeafb7",
        "colab": {
          "base_uri": "https://localhost:8080/"
        },
        "outputId": "5642a0c0-04d8-4520-affa-659f9b04f980"
      },
      "outputs": [
        {
          "output_type": "execute_result",
          "data": {
            "text/plain": [
              "array([[  11.1099296 , 3294.59810081,   38.30883496],\n",
              "       [  11.48794209, 3267.48933515,   38.03821731],\n",
              "       [  11.16630066, 3029.67878902,   37.77649994],\n",
              "       ...,\n",
              "       [  10.95386638, 3284.23851661,   38.11784988],\n",
              "       [  11.16602987, 3297.32887096,   38.53938926],\n",
              "       [  10.4337081 , 3225.99920299,   38.22980417]])"
            ]
          },
          "metadata": {},
          "execution_count": 38
        }
      ],
      "source": [
        "#predict responses based on the maternal RandomForestRegressor model\n",
        "y_pred_rf_reg_maternal = rf_reg_maternal.predict(X_maternal_test)\n",
        "y_pred_rf_reg_maternal"
      ]
    },
    {
      "cell_type": "code",
      "execution_count": null,
      "id": "55ae150b",
      "metadata": {
        "id": "55ae150b"
      },
      "outputs": [],
      "source": [
        "rf_reg_combined = MultiOutputRegressor(RandomForestRegressor(max_depth=20, random_state=42)).fit(X_combined_train, y_reg_train)"
      ]
    },
    {
      "cell_type": "code",
      "execution_count": null,
      "id": "03065c9d",
      "metadata": {
        "id": "03065c9d"
      },
      "outputs": [],
      "source": [
        "#predict responses based on the combined RandomForestRegressor model\n",
        "y_pred_rf_reg_combined = rf_reg_combined.predict(X_combined_test)\n",
        "y_pred_rf_reg_combined"
      ]
    },
    {
      "cell_type": "code",
      "source": [
        "#generalization error default paternal RandomForestRegressor model\n",
        "rf_reg_paternal_y_pred = rf_reg_paternal.predict(X_paternal_test)\n",
        "mse_rf_reg_paternal = mean_squared_error(y_reg_test, rf_reg_paternal_y_pred)\n",
        "mse_rf_reg_paternal"
      ],
      "metadata": {
        "colab": {
          "base_uri": "https://localhost:8080/"
        },
        "id": "pe3RdA6XLqiN",
        "outputId": "2be6a1a3-3f2b-4d30-bc54-792c6ad63b16"
      },
      "id": "pe3RdA6XLqiN",
      "execution_count": 36,
      "outputs": [
        {
          "output_type": "execute_result",
          "data": {
            "text/plain": [
              "102731.99931139528"
            ]
          },
          "metadata": {},
          "execution_count": 36
        }
      ]
    },
    {
      "cell_type": "code",
      "source": [
        "#generalization error default maternal RandomForestRegressor model\n",
        "rf_reg_maternal_y_pred = rf_reg_maternal.predict(X_maternal_test)\n",
        "mse_rf_reg_maternal = mean_squared_error(y_reg_test, rf_reg_maternal_y_pred)\n",
        "mse_rf_reg_maternal"
      ],
      "metadata": {
        "colab": {
          "base_uri": "https://localhost:8080/"
        },
        "id": "rPZTVg3LLqvU",
        "outputId": "01a4e488-de05-4571-a05d-55211775c944"
      },
      "id": "rPZTVg3LLqvU",
      "execution_count": 39,
      "outputs": [
        {
          "output_type": "execute_result",
          "data": {
            "text/plain": [
              "102429.51807068492"
            ]
          },
          "metadata": {},
          "execution_count": 39
        }
      ]
    },
    {
      "cell_type": "code",
      "source": [
        "#generalization error default combined RandomForestRegressor model\n",
        "rf_reg_combined_y_pred = rf_reg_combined.predict(X_combined_test)\n",
        "mse_rf_reg_combined = mean_squared_error(y_reg_test, rf_reg_combined_y_pred)"
      ],
      "metadata": {
        "id": "14adq4ZwLAGN"
      },
      "id": "14adq4ZwLAGN",
      "execution_count": null,
      "outputs": []
    },
    {
      "cell_type": "markdown",
      "id": "5fde1e5f",
      "metadata": {
        "id": "5fde1e5f"
      },
      "source": [
        "### Hyperparameter Tuning for RandomForestRegressor() Models"
      ]
    },
    {
      "cell_type": "code",
      "source": [
        "rf_reg = RandomForestRegressor(n_estimators=100, max_depth=6, min_samples_split=2, random_state=42)\n",
        "reg_model = MultiOutputClassifier(estimator=rf_reg)"
      ],
      "metadata": {
        "id": "vZUEgRYNBXkh"
      },
      "id": "vZUEgRYNBXkh",
      "execution_count": null,
      "outputs": []
    },
    {
      "cell_type": "markdown",
      "id": "32be9470",
      "metadata": {
        "id": "32be9470"
      },
      "source": [
        "#### Paternal Features Model"
      ]
    },
    {
      "cell_type": "code",
      "source": [
        "# Coarse RandomForestRegressor GridSearch - paternal\n",
        "param_grid_coarse_reg_paternal = {'estimator__max_depth':[2, 4, 5, 8],\n",
        "              'estimator__n_estimators':[250, 500, 750, 1000],\n",
        "              'estimator__min_samples_split':[3, 5, 7, 9]}\n",
        "\n",
        "gscv_paternal_reg_coarse = GridSearchCV(reg_model, param_grid_coarse_reg_paternal, n_jobs=-1, cv=3)\n",
        "gscv_paternal_reg_coarse.fit(X_paternal_train, y_clf_train)\n",
        "\n",
        "print(\"The best coarse parameters are: \", gscv_paternal_reg_coarse.best_params_)"
      ],
      "metadata": {
        "id": "s8xxGSOPC-eq"
      },
      "id": "s8xxGSOPC-eq",
      "execution_count": null,
      "outputs": []
    },
    {
      "cell_type": "code",
      "source": [
        "# Refined RandomForestRegressor GridSearch - paternal\n",
        "param_grid_refined_reg_paternal = {'estimator__max_depth':[2, 4, 5, 8],\n",
        "              'estimator__n_estimators':[250, 500, 750, 1000],\n",
        "              'estimator__min_samples_split':[3, 5, 7, 9]}\n",
        "\n",
        "gscv_paternal_reg_refined = GridSearchCV(reg_model, param_grid_refined_reg_paternal, n_jobs=-1, cv=3)\n",
        "gscv_paternal_reg_refined.fit(X_paternal_train, y_clf_train)\n",
        "\n",
        "print(\"The best coarse parameters are: \", gscv_paternal_reg_refined.best_params_)"
      ],
      "metadata": {
        "id": "iU3fJrR0FixA"
      },
      "id": "iU3fJrR0FixA",
      "execution_count": null,
      "outputs": []
    },
    {
      "cell_type": "code",
      "source": [
        "# Final RandomForestRegressor GridSearch - paternal\n",
        "param_grid_final_reg_paternal = {'estimator__max_depth':[2, 4, 5, 8],\n",
        "              'estimator__n_estimators':[250, 500, 750, 1000],\n",
        "              'estimator__min_samples_split':[3, 5, 7, 9]}\n",
        "\n",
        "gscv_paternal_reg_final = GridSearchCV(reg_model, param_grid_final_reg_paternal, n_jobs=-1, cv=3)\n",
        "gscv_paternal_reg_final.fit(X_paternal_train, y_clf_train)\n",
        "\n",
        "print(\"The best coarse parameters are: \", gscv_paternal_reg_final.best_params_)"
      ],
      "metadata": {
        "id": "HhOCR0yQFyYH"
      },
      "id": "HhOCR0yQFyYH",
      "execution_count": null,
      "outputs": []
    },
    {
      "cell_type": "code",
      "execution_count": null,
      "id": "931b38ac",
      "metadata": {
        "id": "931b38ac"
      },
      "outputs": [],
      "source": [
        "# Coarse-Grained RandomForestRegressor GridSearch - paternal\n",
        "\n",
        "# param_grid_coarse_rf_reg_paternal = {'max_depth':[1,2,4,5,8,20], \n",
        "#               'n_estimators': [250, 500, 1000], \n",
        "#               'min_samples_split': [2,4,5,8,12,20]}\n",
        "\n",
        "# grid_search_cv_coarse_rf_reg_paternal = GridSearchCV(RandomForestRegressor(random_state=42), \n",
        "#                                                      param_grid_coarse_rf_reg_paternal, verbose=1, cv=3)\n",
        "# grid_search_cv_coarse_rf_reg_paternal.fit(X_paternal_train, y_reg_train)\n",
        "\n",
        "# print(\"The best parameters are: \", grid_search_cv_coarse_rf_reg_paternal.best_params_)"
      ]
    },
    {
      "cell_type": "code",
      "execution_count": null,
      "id": "61191694",
      "metadata": {
        "id": "61191694"
      },
      "outputs": [],
      "source": [
        "# Refined RandomForestRegressor GridSearch - paternal\n",
        "\n",
        "# param_grid_refined_rf_reg_paternal = {'max_depth':[4,5,6,7,8], \n",
        "#               'n_estimators': [900, 950, 1000, 1050, 1100], \n",
        "#               'min_samples_split': [5,6,7,8,9,10,11,12]}\n",
        "\n",
        "# grid_search_cv_refined_rf_reg_paternal = GridSearchCV(RandomForestRegressor(random_state=42), \n",
        "#                                                       param_grid_refined_rf_reg_paternal, verbose=1, cv=3)\n",
        "# grid_search_cv_refined_rf_reg_paternal.fit(X_paternal_train, y_reg_train)\n",
        "\n",
        "# print(\"The best parameters are: \", grid_search_cv_refined_rf_reg_paternal.best_params_)"
      ]
    },
    {
      "cell_type": "code",
      "execution_count": null,
      "id": "2cb7b991",
      "metadata": {
        "id": "2cb7b991"
      },
      "outputs": [],
      "source": [
        "# Final RandomForestRegressor GridSearch - paternal\n",
        "\n",
        "# param_grid_final_rf_reg_paternal = {'max_depth':[5], \n",
        "#               'n_estimators': [750, 800, 850, 900, 950, 1000], \n",
        "#               'min_samples_split': [8]}\n",
        "\n",
        "# grid_search_cv_final_rf_reg_paternal = GridSearchCV(RandomForestRegressor(random_state=42), \n",
        "#                                                     param_grid_final_rf_reg_paternal, verbose=1, cv=3)\n",
        "# grid_search_cv_final_rf_reg_paternal.fit(X_paternal_train, y_reg_train)\n",
        "\n",
        "# print(\"The best parameters are: \", grid_search_cv_final_rf_reg_paternal.best_params_)"
      ]
    },
    {
      "cell_type": "code",
      "execution_count": null,
      "id": "f80a3af0",
      "metadata": {
        "id": "f80a3af0"
      },
      "outputs": [],
      "source": [
        "# Optimal RandomForestRegressor Model based on GridSearch results for paternal features\n",
        "# optimal_rf_reg_paternal = RandomForestRegressor(max_depth=grid_search_cv_final_rf_reg_paternal.best_params_['max_depth'],\n",
        "#                                    n_estimators=grid_search_cv_final_rf_reg_paternal.best_params_['n_estimators'],\n",
        "#                                    min_samples_split=grid_search_cv_final_rf_reg_paternal.best_params_['min_samples_split'],\n",
        "#                                    random_state=42)\n",
        "# optimal_rf_reg_paternal.fit(X_paternal_train, y_reg_train)"
      ]
    },
    {
      "cell_type": "markdown",
      "id": "ff9e18b3",
      "metadata": {
        "id": "ff9e18b3"
      },
      "source": [
        "#### Maternal Features Model"
      ]
    },
    {
      "cell_type": "code",
      "source": [
        "# Coarse RandomForestRegressor GridSearch - maternal\n",
        "param_grid_coarse_reg_maternal = {'estimator__max_depth':[2, 4, 5, 8],\n",
        "              'estimator__n_estimators':[250, 500, 750, 1000],\n",
        "              'estimator__min_samples_split':[3, 5, 7, 9]}\n",
        "\n",
        "gscv_maternal_reg_coarse = GridSearchCV(reg_model, param_grid_coarse_reg_maternal, n_jobs=-1, cv=3)\n",
        "gscv_maternal_reg_coarse.fit(X_maternal_train, y_clf_train)\n",
        "\n",
        "print(\"The best coarse parameters are: \", gscv_maternal_reg_coarse.best_params_)"
      ],
      "metadata": {
        "id": "0QOv46OlJIke"
      },
      "id": "0QOv46OlJIke",
      "execution_count": null,
      "outputs": []
    },
    {
      "cell_type": "code",
      "execution_count": null,
      "id": "4e6f4d97",
      "metadata": {
        "id": "4e6f4d97"
      },
      "outputs": [],
      "source": [
        "# Coarse RandomForestRegressor GridSearch - maternal\n",
        "# param_grid_coarse_maternal = {'estimator__max_depth':[2, 4, 5, 8],\n",
        "#               'estimator__n_estimators':[250, 500, 750, 1000],\n",
        "#               'estimator__min_samples_split':[3, 5, 7, 9]}\n",
        "\n",
        "# gscv_maternal_reg_coarse = GridSearchCV(reg_model, param_grid_coarse_maternal, n_jobs=-1, cv=3)\n",
        "# gscv_maternal_reg_coarse.fit(X_maternal_train, y_clf_train)\n",
        "\n",
        "# print(\"The best coarse parameters are: \", gscv_maternal_reg_coarse.best_params_)"
      ]
    },
    {
      "cell_type": "code",
      "execution_count": null,
      "id": "15800822",
      "metadata": {
        "id": "15800822"
      },
      "outputs": [],
      "source": [
        "# Refined RandomForestRegressor GridSearch - maternal\n",
        "\n",
        "param_grid_refined_rf_reg_maternal = {'max_depth':[4,5,6,7,8], \n",
        "              'n_estimators': [900, 950, 1000, 1050, 1100], \n",
        "              'min_samples_split': [5,6,7,8,9,10,11,12]}\n",
        "\n",
        "grid_search_cv_refined_rf_reg_maternal = GridSearchCV(RandomForestRegressor(random_state=42), \n",
        "                                                      param_grid_refined_rf_reg_maternal, verbose=1, cv=3)\n",
        "grid_search_cv_refined_rf_reg_maternal.fit(X_maternal_train, y_reg_train)\n",
        "\n",
        "print(\"The best parameters are: \", grid_search_cv_refined_rf_reg_maternal.best_params_)"
      ]
    },
    {
      "cell_type": "code",
      "execution_count": null,
      "id": "fab42afb",
      "metadata": {
        "id": "fab42afb"
      },
      "outputs": [],
      "source": [
        "# Final RandomForestRegressor GridSearch - maternal\n",
        "\n",
        "param_grid_final_rf_reg_maternal = {'max_depth':[5], \n",
        "              'n_estimators': [750, 800, 850, 900, 950, 1000], \n",
        "              'min_samples_split': [8]}\n",
        "\n",
        "grid_search_cv_final_rf_reg_maternal = GridSearchCV(RandomForestRegressor(random_state=42), \n",
        "                                                    param_grid_final_rf_reg_maternal, verbose=1, cv=3)\n",
        "grid_search_cv_final_rf_reg_maternal.fit(X_maternal_train, y_reg_train)\n",
        "\n",
        "print(\"The best parameters are: \", grid_search_cv_final_rf_reg_maternal.best_params_)"
      ]
    },
    {
      "cell_type": "code",
      "execution_count": null,
      "id": "813066b4",
      "metadata": {
        "id": "813066b4"
      },
      "outputs": [],
      "source": [
        "# Optimal RandomForestRegressor Model based on GridSearch results for maternal features\n",
        "optimal_rf_reg_maternal = RandomForestRegressor(max_depth=grid_search_cv_final_rf_reg_maternal.best_params_['max_depth'],\n",
        "                                   n_estimators=grid_search_cv_final_rf_reg_maternal.best_params_['n_estimators'],\n",
        "                                   min_samples_split=grid_search_cv_final_rf_reg_maternal.best_params_['min_samples_split'],\n",
        "                                   random_state=42)\n",
        "optimal_rf_reg_maternal.fit(X_maternal_train, y_reg_train)"
      ]
    },
    {
      "cell_type": "markdown",
      "id": "9146e516",
      "metadata": {
        "id": "9146e516"
      },
      "source": [
        "#### Combined Paternal and Maternal Features Model"
      ]
    },
    {
      "cell_type": "code",
      "execution_count": null,
      "id": "5b91bf8a",
      "metadata": {
        "id": "5b91bf8a"
      },
      "outputs": [],
      "source": [
        "# Coarse-Grained RandomForestRegressor GridSearch - combined\n",
        "\n",
        "param_grid_coarse_rf_reg_combined = {'max_depth':[1,2,4,5,8,20], \n",
        "              'n_estimators': [250, 500, 1000], \n",
        "              'min_samples_split': [2,4,5,8,12,20]}\n",
        "\n",
        "grid_search_cv_coarse_rf_reg_combined = GridSearchCV(RandomForestRegressor(random_state=42), \n",
        "                                                     param_grid_coarse_rf_reg_combined, verbose=1, cv=3)\n",
        "grid_search_cv_coarse_rf_reg_combined.fit(X_combined_train, y_reg_train)\n",
        "\n",
        "print(\"The best parameters are: \", grid_search_cv_coarse_rf_reg_combined.best_params_)"
      ]
    },
    {
      "cell_type": "code",
      "execution_count": null,
      "id": "de67fea1",
      "metadata": {
        "id": "de67fea1"
      },
      "outputs": [],
      "source": [
        "# Refined RandomForestRegressor GridSearch - combined\n",
        "\n",
        "param_grid_refined_rf_reg_combined = {'max_depth':[4,5,6,7,8], \n",
        "              'n_estimators': [900, 950, 1000, 1050, 1100], \n",
        "              'min_samples_split': [5,6,7,8,9,10,11,12]}\n",
        "\n",
        "grid_search_cv_refined_rf_reg_combined = GridSearchCV(RandomForestRegressor(random_state=42), \n",
        "                                                      param_grid_refined_rf_reg_combined, verbose=1, cv=3)\n",
        "grid_search_cv_refined_rf_reg_combined.fit(X_combined_train, y_reg_train)\n",
        "\n",
        "print(\"The best parameters are: \", grid_search_cv_refined_rf_reg_combined.best_params_)"
      ]
    },
    {
      "cell_type": "code",
      "execution_count": null,
      "id": "e17b7de3",
      "metadata": {
        "id": "e17b7de3"
      },
      "outputs": [],
      "source": [
        "# Final RandomForestRegressor GridSearch - combined\n",
        "\n",
        "param_grid_final_rf_reg_combined = {'max_depth':[5], \n",
        "              'n_estimators': [750, 800, 850, 900, 950, 1000], \n",
        "              'min_samples_split': [8]}\n",
        "\n",
        "grid_search_cv_final_rf_reg_combined = GridSearchCV(RandomForestRegressor(random_state=42), \n",
        "                                                    param_grid_final_rf_reg_combined, verbose=1, cv=3)\n",
        "grid_search_cv_final_rf_reg_combined.fit(X_combined_train, y_reg_train)\n",
        "\n",
        "print(\"The best parameters are: \", grid_search_cv_final_rf_reg_combined.best_params_)"
      ]
    },
    {
      "cell_type": "code",
      "execution_count": null,
      "id": "7a8f8937",
      "metadata": {
        "id": "7a8f8937"
      },
      "outputs": [],
      "source": [
        "# Optimal RandomForestRegressor Model based on GridSearch results for combined paternal and maternal features\n",
        "optimal_rf_reg_combined = RandomForestRegressor(max_depth=grid_search_cv_final_rf_reg_combined.best_params_['max_depth'],\n",
        "                                   n_estimators=grid_search_cv_final_rf_reg_combined.best_params_['n_estimators'],\n",
        "                                   min_samples_split=grid_search_cv_final_rf_reg_combined.best_params_['min_samples_split'],\n",
        "                                   random_state=42)\n",
        "optimal_rf_reg_combined.fit(X_combined_train, y_reg_train)"
      ]
    },
    {
      "cell_type": "markdown",
      "id": "b2443bec",
      "metadata": {
        "id": "b2443bec"
      },
      "source": [
        "### Permutation Importance for RandomForestRegressor() Models"
      ]
    },
    {
      "cell_type": "code",
      "execution_count": null,
      "id": "8d543514",
      "metadata": {
        "id": "8d543514"
      },
      "outputs": [],
      "source": [
        "# permutation importance for paternal RandomForestRegressor Model\n",
        "r_reg_paternal = permutation_importance(rf_reg_paternal, X_paternal_test, y_reg_test, n_repeats=10, random_state=42)"
      ]
    },
    {
      "cell_type": "code",
      "execution_count": null,
      "id": "b0e7b99e",
      "metadata": {
        "id": "b0e7b99e"
      },
      "outputs": [],
      "source": [
        "r_reg_paternal.importances_mean"
      ]
    },
    {
      "cell_type": "code",
      "execution_count": null,
      "id": "86045792",
      "metadata": {
        "id": "86045792"
      },
      "outputs": [],
      "source": [
        "r_reg_paternal.importances_mean"
      ]
    },
    {
      "cell_type": "code",
      "execution_count": null,
      "id": "ea9bb582",
      "metadata": {
        "id": "ea9bb582"
      },
      "outputs": [],
      "source": [
        "# permutation importance for maternal RandomForestRegressor Model\n",
        "r_reg_maternal = permutation_importance(rf_reg_maternal, X_maternal_test, y_reg_test, n_repeats=10, random_state=42)"
      ]
    },
    {
      "cell_type": "code",
      "execution_count": null,
      "id": "2d156271",
      "metadata": {
        "id": "2d156271"
      },
      "outputs": [],
      "source": [
        "r_reg_maternal.importances_mean"
      ]
    },
    {
      "cell_type": "code",
      "execution_count": null,
      "id": "7ea5812a",
      "metadata": {
        "id": "7ea5812a"
      },
      "outputs": [],
      "source": [
        "r_reg_maternal.importances"
      ]
    },
    {
      "cell_type": "code",
      "execution_count": null,
      "id": "bc5e6bd6",
      "metadata": {
        "id": "bc5e6bd6"
      },
      "outputs": [],
      "source": [
        "# permutation importance for combined RandomForestRegressor Model\n",
        "r_reg_combined = permutation_importance(rf_reg_combined, X_combined_test, y_reg_test, n_repeats=10, random_state=42)"
      ]
    },
    {
      "cell_type": "code",
      "execution_count": null,
      "id": "370a3d70",
      "metadata": {
        "id": "370a3d70"
      },
      "outputs": [],
      "source": [
        "r_reg_combined.importances_mean"
      ]
    },
    {
      "cell_type": "code",
      "execution_count": null,
      "id": "d96f8bc1",
      "metadata": {
        "id": "d96f8bc1"
      },
      "outputs": [],
      "source": [
        "r_reg_combined.importances"
      ]
    },
    {
      "cell_type": "markdown",
      "id": "9bb9c28f",
      "metadata": {
        "id": "9bb9c28f"
      },
      "source": [
        "### Generalization Error for RandomForestRegressor() Models"
      ]
    },
    {
      "cell_type": "code",
      "execution_count": null,
      "id": "c26bb2e0",
      "metadata": {
        "id": "c26bb2e0"
      },
      "outputs": [],
      "source": [
        "from sklearn.metrics import mean_squared_error\n",
        "\n",
        "#https://scikit-learn.org/stable/auto_examples/ensemble/plot_random_forest_regression_multioutput.html#sphx-glr-auto-examples-ensemble-plot-random-forest-regression-multioutput-py\n",
        "# rf_reg_paternal.score()\n",
        "\n",
        "#generalization error paternal RandomForestRegressor model\n",
        "optimal_rf_reg_paternal_y_pred = optimal_rf_reg_paternal.predict(X_paternal_test)\n",
        "optimal_mse_rf_reg_paternal = mean_squared_error(y_reg_test, optimal_rf_reg_paternal_y_pred)\n",
        "\n",
        "#generalization error maternal RandomForestRegressor model\n",
        "optimal_rf_reg_maternal_y_pred = optimal_rf_reg_maternal.predict(X_maternal_test)\n",
        "optimal_mse_rf_reg_maternal = mean_squared_error(y_reg_test, optimal_rf_reg_maternal_y_pred)\n",
        "\n",
        "#generalization error combined RandomForestRegressor model\n",
        "optimal_rf_reg_combined_y_pred = optimal_rf_reg_combined.predict(X_combined_test)\n",
        "optimal_mse_rf_reg_combined = mean_squared_error(y_reg_test, optimal_rf_reg_combined_y_pred)\n",
        "\n",
        "\n",
        "print(\"Generalization error for Optimal Paternal Random Forest Regressor Model: \", round(optimal_mse_rf_reg_paternal, 4))\n",
        "print(\"Generalization error for Optimal Maternal Random Forest Regressor Model: \", round(optimal_mse_rf_reg_maternal, 4))\n",
        "print(\"Generalization error for Optimal Combined Random Forest Regressor Model: \", round(optimal_mse_rf_reg_combined, 4))"
      ]
    }
  ],
  "metadata": {
    "kernelspec": {
      "display_name": "Python 3",
      "language": "python",
      "name": "python3"
    },
    "language_info": {
      "codemirror_mode": {
        "name": "ipython",
        "version": 3
      },
      "file_extension": ".py",
      "mimetype": "text/x-python",
      "name": "python",
      "nbconvert_exporter": "python",
      "pygments_lexer": "ipython3",
      "version": "3.8.8"
    },
    "colab": {
      "provenance": [],
      "include_colab_link": true
    }
  },
  "nbformat": 4,
  "nbformat_minor": 5
}